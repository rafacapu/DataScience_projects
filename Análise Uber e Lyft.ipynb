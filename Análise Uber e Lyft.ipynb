{
 "cells": [
  {
   "cell_type": "markdown",
   "id": "de3d330b",
   "metadata": {},
   "source": [
    "# Análise dos dados de aplicativos de carona da região de Nova Iorque#\n",
    "\n",
    "#### Os dados foram fornecidos no site Kaggle.com\n",
    "###### link:https://www.kaggle.com/code/nich0047/starter-uber-lyft-cab-prices-592a14e1-d/data\n",
    "\n",
    "#### Utilizando a linguagem python e suas respectivas bibliotecas pandas, matplotlib e seaborn, podemos analisar os dados e retirar informações úteis.\n",
    "\n"
   ]
  },
  {
   "cell_type": "markdown",
   "id": "0afcc7e8",
   "metadata": {},
   "source": [
    "#### Primeiro passo: Adicionando as bibliotecas.\n"
   ]
  },
  {
   "cell_type": "code",
   "execution_count": 2,
   "id": "9655b49b",
   "metadata": {},
   "outputs": [],
   "source": [
    "import numpy as np\n",
    "import pandas as pd\n",
    "import matplotlib.pyplot as plt\n",
    "import seaborn as sns\n",
    "from scipy.stats import zscore\n",
    "import matplotlib.pyplot as plt\n"
   ]
  },
  {
   "cell_type": "markdown",
   "id": "e6fd0eb2",
   "metadata": {},
   "source": [
    "###### Abrir e ler o dataframe\n",
    "\n",
    "Usando a função read_csv do pandas, podemos abrir e ler o arquivo \"cab_rides.csv\" como um dataframe.A partir dele podemos então resolver analisar os dados."
   ]
  },
  {
   "cell_type": "code",
   "execution_count": 3,
   "id": "38640dae",
   "metadata": {},
   "outputs": [],
   "source": [
    "df=pd.read_csv(\"cab_rides.csv\")"
   ]
  },
  {
   "cell_type": "markdown",
   "id": "4aef6c3a",
   "metadata": {},
   "source": [
    "###### Visualizando as primeiras linhas\n",
    "\n",
    "basta usar a função \".head()\", esta função pode receber como argumento o número de linhas que queremos visualizar."
   ]
  },
  {
   "cell_type": "code",
   "execution_count": 4,
   "id": "acabec35",
   "metadata": {},
   "outputs": [
    {
     "data": {
      "text/html": [
       "<div>\n",
       "<style scoped>\n",
       "    .dataframe tbody tr th:only-of-type {\n",
       "        vertical-align: middle;\n",
       "    }\n",
       "\n",
       "    .dataframe tbody tr th {\n",
       "        vertical-align: top;\n",
       "    }\n",
       "\n",
       "    .dataframe thead th {\n",
       "        text-align: right;\n",
       "    }\n",
       "</style>\n",
       "<table border=\"1\" class=\"dataframe\">\n",
       "  <thead>\n",
       "    <tr style=\"text-align: right;\">\n",
       "      <th></th>\n",
       "      <th>distance</th>\n",
       "      <th>cab_type</th>\n",
       "      <th>time_stamp</th>\n",
       "      <th>destination</th>\n",
       "      <th>source</th>\n",
       "      <th>price</th>\n",
       "      <th>surge_multiplier</th>\n",
       "      <th>id</th>\n",
       "      <th>product_id</th>\n",
       "      <th>name</th>\n",
       "    </tr>\n",
       "  </thead>\n",
       "  <tbody>\n",
       "    <tr>\n",
       "      <th>0</th>\n",
       "      <td>0.44</td>\n",
       "      <td>Lyft</td>\n",
       "      <td>1544952607890</td>\n",
       "      <td>North Station</td>\n",
       "      <td>Haymarket Square</td>\n",
       "      <td>5.0</td>\n",
       "      <td>1.0</td>\n",
       "      <td>424553bb-7174-41ea-aeb4-fe06d4f4b9d7</td>\n",
       "      <td>lyft_line</td>\n",
       "      <td>Shared</td>\n",
       "    </tr>\n",
       "    <tr>\n",
       "      <th>1</th>\n",
       "      <td>0.44</td>\n",
       "      <td>Lyft</td>\n",
       "      <td>1543284023677</td>\n",
       "      <td>North Station</td>\n",
       "      <td>Haymarket Square</td>\n",
       "      <td>11.0</td>\n",
       "      <td>1.0</td>\n",
       "      <td>4bd23055-6827-41c6-b23b-3c491f24e74d</td>\n",
       "      <td>lyft_premier</td>\n",
       "      <td>Lux</td>\n",
       "    </tr>\n",
       "    <tr>\n",
       "      <th>2</th>\n",
       "      <td>0.44</td>\n",
       "      <td>Lyft</td>\n",
       "      <td>1543366822198</td>\n",
       "      <td>North Station</td>\n",
       "      <td>Haymarket Square</td>\n",
       "      <td>7.0</td>\n",
       "      <td>1.0</td>\n",
       "      <td>981a3613-77af-4620-a42a-0c0866077d1e</td>\n",
       "      <td>lyft</td>\n",
       "      <td>Lyft</td>\n",
       "    </tr>\n",
       "    <tr>\n",
       "      <th>3</th>\n",
       "      <td>0.44</td>\n",
       "      <td>Lyft</td>\n",
       "      <td>1543553582749</td>\n",
       "      <td>North Station</td>\n",
       "      <td>Haymarket Square</td>\n",
       "      <td>26.0</td>\n",
       "      <td>1.0</td>\n",
       "      <td>c2d88af2-d278-4bfd-a8d0-29ca77cc5512</td>\n",
       "      <td>lyft_luxsuv</td>\n",
       "      <td>Lux Black XL</td>\n",
       "    </tr>\n",
       "    <tr>\n",
       "      <th>4</th>\n",
       "      <td>0.44</td>\n",
       "      <td>Lyft</td>\n",
       "      <td>1543463360223</td>\n",
       "      <td>North Station</td>\n",
       "      <td>Haymarket Square</td>\n",
       "      <td>9.0</td>\n",
       "      <td>1.0</td>\n",
       "      <td>e0126e1f-8ca9-4f2e-82b3-50505a09db9a</td>\n",
       "      <td>lyft_plus</td>\n",
       "      <td>Lyft XL</td>\n",
       "    </tr>\n",
       "    <tr>\n",
       "      <th>5</th>\n",
       "      <td>0.44</td>\n",
       "      <td>Lyft</td>\n",
       "      <td>1545071112138</td>\n",
       "      <td>North Station</td>\n",
       "      <td>Haymarket Square</td>\n",
       "      <td>16.5</td>\n",
       "      <td>1.0</td>\n",
       "      <td>f6f6d7e4-3e18-4922-a5f5-181cdd3fa6f2</td>\n",
       "      <td>lyft_lux</td>\n",
       "      <td>Lux Black</td>\n",
       "    </tr>\n",
       "    <tr>\n",
       "      <th>6</th>\n",
       "      <td>1.08</td>\n",
       "      <td>Lyft</td>\n",
       "      <td>1543208580200</td>\n",
       "      <td>Northeastern University</td>\n",
       "      <td>Back Bay</td>\n",
       "      <td>10.5</td>\n",
       "      <td>1.0</td>\n",
       "      <td>462816a3-820d-408b-8549-0b39e82f65ac</td>\n",
       "      <td>lyft_plus</td>\n",
       "      <td>Lyft XL</td>\n",
       "    </tr>\n",
       "    <tr>\n",
       "      <th>7</th>\n",
       "      <td>1.08</td>\n",
       "      <td>Lyft</td>\n",
       "      <td>1543780384677</td>\n",
       "      <td>Northeastern University</td>\n",
       "      <td>Back Bay</td>\n",
       "      <td>16.5</td>\n",
       "      <td>1.0</td>\n",
       "      <td>474d6376-bc59-4ec9-bf57-4e6d6faeb165</td>\n",
       "      <td>lyft_lux</td>\n",
       "      <td>Lux Black</td>\n",
       "    </tr>\n",
       "    <tr>\n",
       "      <th>8</th>\n",
       "      <td>1.08</td>\n",
       "      <td>Lyft</td>\n",
       "      <td>1543818482645</td>\n",
       "      <td>Northeastern University</td>\n",
       "      <td>Back Bay</td>\n",
       "      <td>3.0</td>\n",
       "      <td>1.0</td>\n",
       "      <td>4f9fee41-fde3-4767-bbf1-a00e108701fb</td>\n",
       "      <td>lyft_line</td>\n",
       "      <td>Shared</td>\n",
       "    </tr>\n",
       "    <tr>\n",
       "      <th>9</th>\n",
       "      <td>1.08</td>\n",
       "      <td>Lyft</td>\n",
       "      <td>1543315522249</td>\n",
       "      <td>Northeastern University</td>\n",
       "      <td>Back Bay</td>\n",
       "      <td>27.5</td>\n",
       "      <td>1.0</td>\n",
       "      <td>8612d909-98b8-4454-a093-30bd48de0cb3</td>\n",
       "      <td>lyft_luxsuv</td>\n",
       "      <td>Lux Black XL</td>\n",
       "    </tr>\n",
       "    <tr>\n",
       "      <th>10</th>\n",
       "      <td>1.08</td>\n",
       "      <td>Lyft</td>\n",
       "      <td>1543594383882</td>\n",
       "      <td>Northeastern University</td>\n",
       "      <td>Back Bay</td>\n",
       "      <td>13.5</td>\n",
       "      <td>1.0</td>\n",
       "      <td>9043bf77-1d45-4a93-9520-a083e0277f16</td>\n",
       "      <td>lyft_premier</td>\n",
       "      <td>Lux</td>\n",
       "    </tr>\n",
       "    <tr>\n",
       "      <th>11</th>\n",
       "      <td>1.08</td>\n",
       "      <td>Lyft</td>\n",
       "      <td>1543432987778</td>\n",
       "      <td>Northeastern University</td>\n",
       "      <td>Back Bay</td>\n",
       "      <td>7.0</td>\n",
       "      <td>1.0</td>\n",
       "      <td>d859ec69-b3ff-4af8-9abd-441e31430c94</td>\n",
       "      <td>lyft</td>\n",
       "      <td>Lyft</td>\n",
       "    </tr>\n",
       "    <tr>\n",
       "      <th>12</th>\n",
       "      <td>1.11</td>\n",
       "      <td>Uber</td>\n",
       "      <td>1543615981179</td>\n",
       "      <td>West End</td>\n",
       "      <td>North End</td>\n",
       "      <td>12.0</td>\n",
       "      <td>1.0</td>\n",
       "      <td>009e9c53-074d-43cf-aef2-0fbc7a47ed3d</td>\n",
       "      <td>6f72dfc5-27f1-42e8-84db-ccc7a75f6969</td>\n",
       "      <td>UberXL</td>\n",
       "    </tr>\n",
       "    <tr>\n",
       "      <th>13</th>\n",
       "      <td>1.11</td>\n",
       "      <td>Uber</td>\n",
       "      <td>1544698211014</td>\n",
       "      <td>West End</td>\n",
       "      <td>North End</td>\n",
       "      <td>16.0</td>\n",
       "      <td>1.0</td>\n",
       "      <td>23f145da-f0c1-4d1f-a184-496bc003a7db</td>\n",
       "      <td>6c84fd89-3f11-4782-9b50-97c468b19529</td>\n",
       "      <td>Black</td>\n",
       "    </tr>\n",
       "    <tr>\n",
       "      <th>14</th>\n",
       "      <td>1.11</td>\n",
       "      <td>Uber</td>\n",
       "      <td>1544728503935</td>\n",
       "      <td>West End</td>\n",
       "      <td>North End</td>\n",
       "      <td>7.5</td>\n",
       "      <td>1.0</td>\n",
       "      <td>357559cb-8c58-4278-a41a-e33b2e0997a3</td>\n",
       "      <td>55c66225-fbe7-4fd5-9072-eab1ece5e23e</td>\n",
       "      <td>UberX</td>\n",
       "    </tr>\n",
       "  </tbody>\n",
       "</table>\n",
       "</div>"
      ],
      "text/plain": [
       "    distance cab_type     time_stamp              destination  \\\n",
       "0       0.44     Lyft  1544952607890            North Station   \n",
       "1       0.44     Lyft  1543284023677            North Station   \n",
       "2       0.44     Lyft  1543366822198            North Station   \n",
       "3       0.44     Lyft  1543553582749            North Station   \n",
       "4       0.44     Lyft  1543463360223            North Station   \n",
       "5       0.44     Lyft  1545071112138            North Station   \n",
       "6       1.08     Lyft  1543208580200  Northeastern University   \n",
       "7       1.08     Lyft  1543780384677  Northeastern University   \n",
       "8       1.08     Lyft  1543818482645  Northeastern University   \n",
       "9       1.08     Lyft  1543315522249  Northeastern University   \n",
       "10      1.08     Lyft  1543594383882  Northeastern University   \n",
       "11      1.08     Lyft  1543432987778  Northeastern University   \n",
       "12      1.11     Uber  1543615981179                 West End   \n",
       "13      1.11     Uber  1544698211014                 West End   \n",
       "14      1.11     Uber  1544728503935                 West End   \n",
       "\n",
       "              source  price  surge_multiplier  \\\n",
       "0   Haymarket Square    5.0               1.0   \n",
       "1   Haymarket Square   11.0               1.0   \n",
       "2   Haymarket Square    7.0               1.0   \n",
       "3   Haymarket Square   26.0               1.0   \n",
       "4   Haymarket Square    9.0               1.0   \n",
       "5   Haymarket Square   16.5               1.0   \n",
       "6           Back Bay   10.5               1.0   \n",
       "7           Back Bay   16.5               1.0   \n",
       "8           Back Bay    3.0               1.0   \n",
       "9           Back Bay   27.5               1.0   \n",
       "10          Back Bay   13.5               1.0   \n",
       "11          Back Bay    7.0               1.0   \n",
       "12         North End   12.0               1.0   \n",
       "13         North End   16.0               1.0   \n",
       "14         North End    7.5               1.0   \n",
       "\n",
       "                                      id  \\\n",
       "0   424553bb-7174-41ea-aeb4-fe06d4f4b9d7   \n",
       "1   4bd23055-6827-41c6-b23b-3c491f24e74d   \n",
       "2   981a3613-77af-4620-a42a-0c0866077d1e   \n",
       "3   c2d88af2-d278-4bfd-a8d0-29ca77cc5512   \n",
       "4   e0126e1f-8ca9-4f2e-82b3-50505a09db9a   \n",
       "5   f6f6d7e4-3e18-4922-a5f5-181cdd3fa6f2   \n",
       "6   462816a3-820d-408b-8549-0b39e82f65ac   \n",
       "7   474d6376-bc59-4ec9-bf57-4e6d6faeb165   \n",
       "8   4f9fee41-fde3-4767-bbf1-a00e108701fb   \n",
       "9   8612d909-98b8-4454-a093-30bd48de0cb3   \n",
       "10  9043bf77-1d45-4a93-9520-a083e0277f16   \n",
       "11  d859ec69-b3ff-4af8-9abd-441e31430c94   \n",
       "12  009e9c53-074d-43cf-aef2-0fbc7a47ed3d   \n",
       "13  23f145da-f0c1-4d1f-a184-496bc003a7db   \n",
       "14  357559cb-8c58-4278-a41a-e33b2e0997a3   \n",
       "\n",
       "                              product_id          name  \n",
       "0                              lyft_line        Shared  \n",
       "1                           lyft_premier           Lux  \n",
       "2                                   lyft          Lyft  \n",
       "3                            lyft_luxsuv  Lux Black XL  \n",
       "4                              lyft_plus       Lyft XL  \n",
       "5                               lyft_lux     Lux Black  \n",
       "6                              lyft_plus       Lyft XL  \n",
       "7                               lyft_lux     Lux Black  \n",
       "8                              lyft_line        Shared  \n",
       "9                            lyft_luxsuv  Lux Black XL  \n",
       "10                          lyft_premier           Lux  \n",
       "11                                  lyft          Lyft  \n",
       "12  6f72dfc5-27f1-42e8-84db-ccc7a75f6969        UberXL  \n",
       "13  6c84fd89-3f11-4782-9b50-97c468b19529         Black  \n",
       "14  55c66225-fbe7-4fd5-9072-eab1ece5e23e         UberX  "
      ]
     },
     "execution_count": 4,
     "metadata": {},
     "output_type": "execute_result"
    }
   ],
   "source": [
    "df.head(15)"
   ]
  },
  {
   "cell_type": "markdown",
   "id": "866ea904",
   "metadata": {},
   "source": [
    "##### Visualisizando as últimas linhas.\n",
    "\n",
    "A função \".tail()\" nos permite visualizar as últimas linhas do dataframe, e da mesma forma que a função \".head()\" ela e capaz de receber como argumento o número de linhas"
   ]
  },
  {
   "cell_type": "code",
   "execution_count": 7,
   "id": "217827ab",
   "metadata": {},
   "outputs": [
    {
     "data": {
      "text/html": [
       "<div>\n",
       "<style scoped>\n",
       "    .dataframe tbody tr th:only-of-type {\n",
       "        vertical-align: middle;\n",
       "    }\n",
       "\n",
       "    .dataframe tbody tr th {\n",
       "        vertical-align: top;\n",
       "    }\n",
       "\n",
       "    .dataframe thead th {\n",
       "        text-align: right;\n",
       "    }\n",
       "</style>\n",
       "<table border=\"1\" class=\"dataframe\">\n",
       "  <thead>\n",
       "    <tr style=\"text-align: right;\">\n",
       "      <th></th>\n",
       "      <th>distance</th>\n",
       "      <th>cab_type</th>\n",
       "      <th>time_stamp</th>\n",
       "      <th>destination</th>\n",
       "      <th>source</th>\n",
       "      <th>price</th>\n",
       "      <th>surge_multiplier</th>\n",
       "      <th>id</th>\n",
       "      <th>product_id</th>\n",
       "      <th>name</th>\n",
       "    </tr>\n",
       "  </thead>\n",
       "  <tbody>\n",
       "    <tr>\n",
       "      <th>693056</th>\n",
       "      <td>0.91</td>\n",
       "      <td>Uber</td>\n",
       "      <td>1543456028123</td>\n",
       "      <td>Beacon Hill</td>\n",
       "      <td>Haymarket Square</td>\n",
       "      <td>7.0</td>\n",
       "      <td>1.0</td>\n",
       "      <td>d1a50035-184d-4e63-8aa1-813b497e293e</td>\n",
       "      <td>9a0e7b09-b92b-4c41-9779-2ad22b4d779d</td>\n",
       "      <td>WAV</td>\n",
       "    </tr>\n",
       "    <tr>\n",
       "      <th>693057</th>\n",
       "      <td>1.61</td>\n",
       "      <td>Uber</td>\n",
       "      <td>1543456028123</td>\n",
       "      <td>Haymarket Square</td>\n",
       "      <td>Theatre District</td>\n",
       "      <td>17.0</td>\n",
       "      <td>1.0</td>\n",
       "      <td>0f13e495-cd0a-4b87-8219-b9a4ae06ece7</td>\n",
       "      <td>6c84fd89-3f11-4782-9b50-97c468b19529</td>\n",
       "      <td>Black</td>\n",
       "    </tr>\n",
       "    <tr>\n",
       "      <th>693058</th>\n",
       "      <td>1.61</td>\n",
       "      <td>Uber</td>\n",
       "      <td>1543456028123</td>\n",
       "      <td>Haymarket Square</td>\n",
       "      <td>Theatre District</td>\n",
       "      <td>22.0</td>\n",
       "      <td>1.0</td>\n",
       "      <td>16ccd6b9-a294-41c1-9827-0e44bd92db15</td>\n",
       "      <td>6f72dfc5-27f1-42e8-84db-ccc7a75f6969</td>\n",
       "      <td>UberXL</td>\n",
       "    </tr>\n",
       "    <tr>\n",
       "      <th>693059</th>\n",
       "      <td>1.61</td>\n",
       "      <td>Uber</td>\n",
       "      <td>1543728484149</td>\n",
       "      <td>Haymarket Square</td>\n",
       "      <td>Theatre District</td>\n",
       "      <td>14.0</td>\n",
       "      <td>1.0</td>\n",
       "      <td>178bfa35-7df5-4ef8-a6eb-42a65f95bcce</td>\n",
       "      <td>997acbb5-e102-41e1-b155-9df7de0a73f2</td>\n",
       "      <td>UberPool</td>\n",
       "    </tr>\n",
       "    <tr>\n",
       "      <th>693060</th>\n",
       "      <td>1.61</td>\n",
       "      <td>Uber</td>\n",
       "      <td>1543728484149</td>\n",
       "      <td>Haymarket Square</td>\n",
       "      <td>Theatre District</td>\n",
       "      <td>NaN</td>\n",
       "      <td>1.0</td>\n",
       "      <td>50a7b6be-ed2a-4a11-8d36-73bd977ad66a</td>\n",
       "      <td>8cf7e821-f0d3-49c6-8eba-e679c0ebcf6a</td>\n",
       "      <td>Taxi</td>\n",
       "    </tr>\n",
       "    <tr>\n",
       "      <th>693061</th>\n",
       "      <td>1.61</td>\n",
       "      <td>Uber</td>\n",
       "      <td>1543728484149</td>\n",
       "      <td>Haymarket Square</td>\n",
       "      <td>Theatre District</td>\n",
       "      <td>15.0</td>\n",
       "      <td>1.0</td>\n",
       "      <td>54362c72-124b-47e8-8d07-62a07cfff624</td>\n",
       "      <td>55c66225-fbe7-4fd5-9072-eab1ece5e23e</td>\n",
       "      <td>UberX</td>\n",
       "    </tr>\n",
       "    <tr>\n",
       "      <th>693062</th>\n",
       "      <td>1.61</td>\n",
       "      <td>Uber</td>\n",
       "      <td>1543728484149</td>\n",
       "      <td>Haymarket Square</td>\n",
       "      <td>Theatre District</td>\n",
       "      <td>15.0</td>\n",
       "      <td>1.0</td>\n",
       "      <td>64a50889-d05b-49de-b416-1802db5c27ac</td>\n",
       "      <td>9a0e7b09-b92b-4c41-9779-2ad22b4d779d</td>\n",
       "      <td>WAV</td>\n",
       "    </tr>\n",
       "    <tr>\n",
       "      <th>693063</th>\n",
       "      <td>1.61</td>\n",
       "      <td>Uber</td>\n",
       "      <td>1543728484149</td>\n",
       "      <td>Haymarket Square</td>\n",
       "      <td>Theatre District</td>\n",
       "      <td>27.0</td>\n",
       "      <td>1.0</td>\n",
       "      <td>6c1d9207-a9af-431e-a65f-3d9d205f28bf</td>\n",
       "      <td>6d318bcc-22a3-4af6-bddd-b409bfce1546</td>\n",
       "      <td>Black SUV</td>\n",
       "    </tr>\n",
       "    <tr>\n",
       "      <th>693064</th>\n",
       "      <td>1.00</td>\n",
       "      <td>Uber</td>\n",
       "      <td>1543728484149</td>\n",
       "      <td>North End</td>\n",
       "      <td>West End</td>\n",
       "      <td>17.0</td>\n",
       "      <td>1.0</td>\n",
       "      <td>25ed29df-4f9c-4aac-8218-681427f1d738</td>\n",
       "      <td>6c84fd89-3f11-4782-9b50-97c468b19529</td>\n",
       "      <td>Black</td>\n",
       "    </tr>\n",
       "    <tr>\n",
       "      <th>693065</th>\n",
       "      <td>1.00</td>\n",
       "      <td>Uber</td>\n",
       "      <td>1543708385534</td>\n",
       "      <td>North End</td>\n",
       "      <td>West End</td>\n",
       "      <td>9.5</td>\n",
       "      <td>1.0</td>\n",
       "      <td>353e6566-b272-479e-a9c6-98bd6cb23f25</td>\n",
       "      <td>9a0e7b09-b92b-4c41-9779-2ad22b4d779d</td>\n",
       "      <td>WAV</td>\n",
       "    </tr>\n",
       "    <tr>\n",
       "      <th>693066</th>\n",
       "      <td>1.00</td>\n",
       "      <td>Uber</td>\n",
       "      <td>1543708385534</td>\n",
       "      <td>North End</td>\n",
       "      <td>West End</td>\n",
       "      <td>13.0</td>\n",
       "      <td>1.0</td>\n",
       "      <td>616d3611-1820-450a-9845-a9ff304a4842</td>\n",
       "      <td>6f72dfc5-27f1-42e8-84db-ccc7a75f6969</td>\n",
       "      <td>UberXL</td>\n",
       "    </tr>\n",
       "    <tr>\n",
       "      <th>693067</th>\n",
       "      <td>1.00</td>\n",
       "      <td>Uber</td>\n",
       "      <td>1543708385534</td>\n",
       "      <td>North End</td>\n",
       "      <td>West End</td>\n",
       "      <td>9.5</td>\n",
       "      <td>1.0</td>\n",
       "      <td>633a3fc3-1f86-4b9e-9d48-2b7132112341</td>\n",
       "      <td>55c66225-fbe7-4fd5-9072-eab1ece5e23e</td>\n",
       "      <td>UberX</td>\n",
       "    </tr>\n",
       "    <tr>\n",
       "      <th>693068</th>\n",
       "      <td>1.00</td>\n",
       "      <td>Uber</td>\n",
       "      <td>1543708385534</td>\n",
       "      <td>North End</td>\n",
       "      <td>West End</td>\n",
       "      <td>NaN</td>\n",
       "      <td>1.0</td>\n",
       "      <td>64d451d0-639f-47a4-9b7c-6fd92fbd264f</td>\n",
       "      <td>8cf7e821-f0d3-49c6-8eba-e679c0ebcf6a</td>\n",
       "      <td>Taxi</td>\n",
       "    </tr>\n",
       "    <tr>\n",
       "      <th>693069</th>\n",
       "      <td>1.00</td>\n",
       "      <td>Uber</td>\n",
       "      <td>1543708385534</td>\n",
       "      <td>North End</td>\n",
       "      <td>West End</td>\n",
       "      <td>27.0</td>\n",
       "      <td>1.0</td>\n",
       "      <td>727e5f07-a96b-4ad1-a2c7-9abc3ad55b4e</td>\n",
       "      <td>6d318bcc-22a3-4af6-bddd-b409bfce1546</td>\n",
       "      <td>Black SUV</td>\n",
       "    </tr>\n",
       "    <tr>\n",
       "      <th>693070</th>\n",
       "      <td>1.00</td>\n",
       "      <td>Uber</td>\n",
       "      <td>1543708385534</td>\n",
       "      <td>North End</td>\n",
       "      <td>West End</td>\n",
       "      <td>10.0</td>\n",
       "      <td>1.0</td>\n",
       "      <td>e7fdc087-fe86-40a5-a3c3-3b2a8badcbda</td>\n",
       "      <td>997acbb5-e102-41e1-b155-9df7de0a73f2</td>\n",
       "      <td>UberPool</td>\n",
       "    </tr>\n",
       "  </tbody>\n",
       "</table>\n",
       "</div>"
      ],
      "text/plain": [
       "        distance cab_type     time_stamp       destination            source  \\\n",
       "693056      0.91     Uber  1543456028123       Beacon Hill  Haymarket Square   \n",
       "693057      1.61     Uber  1543456028123  Haymarket Square  Theatre District   \n",
       "693058      1.61     Uber  1543456028123  Haymarket Square  Theatre District   \n",
       "693059      1.61     Uber  1543728484149  Haymarket Square  Theatre District   \n",
       "693060      1.61     Uber  1543728484149  Haymarket Square  Theatre District   \n",
       "693061      1.61     Uber  1543728484149  Haymarket Square  Theatre District   \n",
       "693062      1.61     Uber  1543728484149  Haymarket Square  Theatre District   \n",
       "693063      1.61     Uber  1543728484149  Haymarket Square  Theatre District   \n",
       "693064      1.00     Uber  1543728484149         North End          West End   \n",
       "693065      1.00     Uber  1543708385534         North End          West End   \n",
       "693066      1.00     Uber  1543708385534         North End          West End   \n",
       "693067      1.00     Uber  1543708385534         North End          West End   \n",
       "693068      1.00     Uber  1543708385534         North End          West End   \n",
       "693069      1.00     Uber  1543708385534         North End          West End   \n",
       "693070      1.00     Uber  1543708385534         North End          West End   \n",
       "\n",
       "        price  surge_multiplier                                    id  \\\n",
       "693056    7.0               1.0  d1a50035-184d-4e63-8aa1-813b497e293e   \n",
       "693057   17.0               1.0  0f13e495-cd0a-4b87-8219-b9a4ae06ece7   \n",
       "693058   22.0               1.0  16ccd6b9-a294-41c1-9827-0e44bd92db15   \n",
       "693059   14.0               1.0  178bfa35-7df5-4ef8-a6eb-42a65f95bcce   \n",
       "693060    NaN               1.0  50a7b6be-ed2a-4a11-8d36-73bd977ad66a   \n",
       "693061   15.0               1.0  54362c72-124b-47e8-8d07-62a07cfff624   \n",
       "693062   15.0               1.0  64a50889-d05b-49de-b416-1802db5c27ac   \n",
       "693063   27.0               1.0  6c1d9207-a9af-431e-a65f-3d9d205f28bf   \n",
       "693064   17.0               1.0  25ed29df-4f9c-4aac-8218-681427f1d738   \n",
       "693065    9.5               1.0  353e6566-b272-479e-a9c6-98bd6cb23f25   \n",
       "693066   13.0               1.0  616d3611-1820-450a-9845-a9ff304a4842   \n",
       "693067    9.5               1.0  633a3fc3-1f86-4b9e-9d48-2b7132112341   \n",
       "693068    NaN               1.0  64d451d0-639f-47a4-9b7c-6fd92fbd264f   \n",
       "693069   27.0               1.0  727e5f07-a96b-4ad1-a2c7-9abc3ad55b4e   \n",
       "693070   10.0               1.0  e7fdc087-fe86-40a5-a3c3-3b2a8badcbda   \n",
       "\n",
       "                                  product_id       name  \n",
       "693056  9a0e7b09-b92b-4c41-9779-2ad22b4d779d        WAV  \n",
       "693057  6c84fd89-3f11-4782-9b50-97c468b19529      Black  \n",
       "693058  6f72dfc5-27f1-42e8-84db-ccc7a75f6969     UberXL  \n",
       "693059  997acbb5-e102-41e1-b155-9df7de0a73f2   UberPool  \n",
       "693060  8cf7e821-f0d3-49c6-8eba-e679c0ebcf6a       Taxi  \n",
       "693061  55c66225-fbe7-4fd5-9072-eab1ece5e23e      UberX  \n",
       "693062  9a0e7b09-b92b-4c41-9779-2ad22b4d779d        WAV  \n",
       "693063  6d318bcc-22a3-4af6-bddd-b409bfce1546  Black SUV  \n",
       "693064  6c84fd89-3f11-4782-9b50-97c468b19529      Black  \n",
       "693065  9a0e7b09-b92b-4c41-9779-2ad22b4d779d        WAV  \n",
       "693066  6f72dfc5-27f1-42e8-84db-ccc7a75f6969     UberXL  \n",
       "693067  55c66225-fbe7-4fd5-9072-eab1ece5e23e      UberX  \n",
       "693068  8cf7e821-f0d3-49c6-8eba-e679c0ebcf6a       Taxi  \n",
       "693069  6d318bcc-22a3-4af6-bddd-b409bfce1546  Black SUV  \n",
       "693070  997acbb5-e102-41e1-b155-9df7de0a73f2   UberPool  "
      ]
     },
     "execution_count": 7,
     "metadata": {},
     "output_type": "execute_result"
    }
   ],
   "source": [
    "df.tail(15)"
   ]
  },
  {
   "cell_type": "markdown",
   "id": "91fa029a",
   "metadata": {},
   "source": [
    "### Analisando as colunas\n",
    "\n",
    "###### Usando a função info(),podemo então definir visualizar o tipo de cada coluna."
   ]
  },
  {
   "cell_type": "code",
   "execution_count": 21,
   "id": "fbc13439",
   "metadata": {},
   "outputs": [
    {
     "name": "stdout",
     "output_type": "stream",
     "text": [
      "<class 'pandas.core.frame.DataFrame'>\n",
      "RangeIndex: 693071 entries, 0 to 693070\n",
      "Data columns (total 10 columns):\n",
      " #   Column            Non-Null Count   Dtype  \n",
      "---  ------            --------------   -----  \n",
      " 0   distance          693071 non-null  float64\n",
      " 1   cab_type          693071 non-null  object \n",
      " 2   time_stamp        693071 non-null  int64  \n",
      " 3   destination       693071 non-null  object \n",
      " 4   source            693071 non-null  object \n",
      " 5   price             693071 non-null  float64\n",
      " 6   surge_multiplier  693071 non-null  float64\n",
      " 7   id                693071 non-null  object \n",
      " 8   product_id        693071 non-null  object \n",
      " 9   name              693071 non-null  object \n",
      "dtypes: float64(3), int64(1), object(6)\n",
      "memory usage: 52.9+ MB\n"
     ]
    }
   ],
   "source": [
    "df.info()"
   ]
  },
  {
   "cell_type": "markdown",
   "id": "70eab053",
   "metadata": {},
   "source": [
    "###### Notamos então, que  existem 6 objetos, 3 tipo float e um inteiro."
   ]
  },
  {
   "cell_type": "markdown",
   "id": "7614065b",
   "metadata": {},
   "source": [
    "### Podemos então começar o procedimento de limpeza do Data Frame.\n",
    "\n",
    "##### Primeiramente, analisamos as dimensões do a dataframe através da função shape() e se o mesmo e se o mesmo possuí campos nulos. Para a última , usamos uma combinação de duas funções: a função \"isnull()\" é capaz de detectar se uma célula é nula, a função \"sum()\" é capaz de contar quantas células possuem."
   ]
  },
  {
   "cell_type": "code",
   "execution_count": 8,
   "id": "1affa2a3",
   "metadata": {},
   "outputs": [
    {
     "data": {
      "text/plain": [
       "(693071, 10)"
      ]
     },
     "execution_count": 8,
     "metadata": {},
     "output_type": "execute_result"
    }
   ],
   "source": [
    "df.shape"
   ]
  },
  {
   "cell_type": "code",
   "execution_count": 9,
   "id": "1962fcc4",
   "metadata": {},
   "outputs": [
    {
     "data": {
      "text/plain": [
       "distance                0\n",
       "cab_type                0\n",
       "time_stamp              0\n",
       "destination             0\n",
       "source                  0\n",
       "price               55095\n",
       "surge_multiplier        0\n",
       "id                      0\n",
       "product_id              0\n",
       "name                    0\n",
       "dtype: int64"
      ]
     },
     "execution_count": 9,
     "metadata": {},
     "output_type": "execute_result"
    }
   ],
   "source": [
    "df.isnull().sum()"
   ]
  },
  {
   "cell_type": "markdown",
   "id": "58350d89",
   "metadata": {},
   "source": [
    "### Podemos então notar, que existem 55095 valores nulos no campo \" price\".\n",
    "\n",
    "##### Existem diversas formas de lidar com valores nulos,podemos simplesmente deletar do data frame, podemos substituir pelo valor mais recorrente, ou substituir pela mediana de valores apresentados pela coluna. Deletar os valores pode resultar em perda de informação valiosa.Portanto a melhor estratégia, na minha opinião será substituir por valores alternativos que não prejudiquem a análise dos dados.\n",
    "\n",
    "##### Nesse caso, substituimos pela média.\n",
    "\n"
   ]
  },
  {
   "cell_type": "code",
   "execution_count": 27,
   "id": "c8bff6df",
   "metadata": {},
   "outputs": [
    {
     "data": {
      "text/plain": [
       "distance            0\n",
       "cab_type            0\n",
       "time_stamp          0\n",
       "destination         0\n",
       "source              0\n",
       "price               0\n",
       "surge_multiplier    0\n",
       "id                  0\n",
       "product_id          0\n",
       "name                0\n",
       "dtype: int64"
      ]
     },
     "execution_count": 27,
     "metadata": {},
     "output_type": "execute_result"
    }
   ],
   "source": [
    "df[\"price\"].fillna(df[\"price\"].mean(),inplace=True)\n",
    "df.isnull().sum()"
   ]
  },
  {
   "cell_type": "markdown",
   "id": "cbaf5b4c",
   "metadata": {},
   "source": [
    "#### Podemos analisar se o data frame possui então valores duplicados, usando a função \"duplicated()\" e a função \"value_counts()\""
   ]
  },
  {
   "cell_type": "code",
   "execution_count": 36,
   "id": "790054bc",
   "metadata": {},
   "outputs": [
    {
     "data": {
      "text/plain": [
       "False    693071\n",
       "dtype: int64"
      ]
     },
     "execution_count": 36,
     "metadata": {},
     "output_type": "execute_result"
    }
   ],
   "source": [
    "df.duplicated().value_counts()\n"
   ]
  },
  {
   "cell_type": "markdown",
   "id": "61337674",
   "metadata": {},
   "source": [
    "###### Como podemos ver, não possuí duplicatas."
   ]
  },
  {
   "cell_type": "markdown",
   "id": "0625a5f3",
   "metadata": {},
   "source": [
    "##### Podemos então partir para a análise de fato dos dados, a primeira coisa a se analisar, é se possuem muitos Outliers, esses são valores que fogem muito da distribuição dos dados.\n",
    "\n",
    "###### Uma forma  simples de detectar outliers é através do método \"boxplot\", se o usarmos, os outliers vão aparecer como pontos fora da caixa"
   ]
  },
  {
   "cell_type": "code",
   "execution_count": 23,
   "id": "02a15562",
   "metadata": {},
   "outputs": [
    {
     "data": {
      "text/plain": [
       "<AxesSubplot:>"
      ]
     },
     "execution_count": 23,
     "metadata": {},
     "output_type": "execute_result"
    },
    {
     "data": {
      "image/png": "[encoded data removed]",
      "text/plain": [
       "<Figure size 1080x216 with 1 Axes>"
      ]
     },
     "metadata": {
      "needs_background": "light"
     },
     "output_type": "display_data"
    }
   ],
   "source": [
    "df.plot(kind='box', vert=False, figsize=(15, 3),)"
   ]
  },
  {
   "cell_type": "code",
   "execution_count": 13,
   "id": "e1ce1ffe",
   "metadata": {},
   "outputs": [],
   "source": [
    "def remove_wIQR (DataFrame,columns):\n",
    " Q1 = DataFrame[columns].quantile(0.25)\n",
    " Q3 = DataFrame[columns].quantile(0.75)\n",
    " IQR = Q3 - Q1\n",
    " lower = Q1-(1.5*IQR)\n",
    " upper = Q3+(1.5*IQR)\n",
    "\n",
    " DataFrame_out=DataFrame[(DataFrame[columns]>upper) | (DataFrame[columns]<lower)]\n",
    "\n",
    " \n",
    " return DataFrame_out"
   ]
  },
  {
   "cell_type": "code",
   "execution_count": 14,
   "id": "0c56ae15",
   "metadata": {},
   "outputs": [
    {
     "data": {
      "text/plain": [
       "['distance',\n",
       " 'cab_type',\n",
       " 'time_stamp',\n",
       " 'destination',\n",
       " 'source',\n",
       " 'price',\n",
       " 'surge_multiplier',\n",
       " 'id',\n",
       " 'product_id',\n",
       " 'name']"
      ]
     },
     "execution_count": 14,
     "metadata": {},
     "output_type": "execute_result"
    }
   ],
   "source": [
    "df.columns.values.tolist()"
   ]
  },
  {
   "cell_type": "code",
   "execution_count": 15,
   "id": "69fb808d",
   "metadata": {},
   "outputs": [],
   "source": [
    "columns= ['surge_multiplier','price','distance']\n",
    "df_filtered=df.filter(columns)\n",
    "for x in columns:\n",
    " df_IQR=remove_wIQR(df,columns)"
   ]
  },
  {
   "cell_type": "code",
   "execution_count": 26,
   "id": "9d24852c",
   "metadata": {},
   "outputs": [
    {
     "data": {
      "text/plain": [
       "<AxesSubplot:>"
      ]
     },
     "execution_count": 26,
     "metadata": {},
     "output_type": "execute_result"
    },
    {
     "data": {
      "image/png": "[encoded data removed]",
      "text/plain": [
       "<Figure size 1080x216 with 1 Axes>"
      ]
     },
     "metadata": {
      "needs_background": "light"
     },
     "output_type": "display_data"
    }
   ],
   "source": [
    "df_IQR.plot(kind='box', vert=False, figsize=(15, 3),)"
   ]
  },
  {
   "cell_type": "code",
   "execution_count": 17,
   "id": "1c5d3a6c",
   "metadata": {},
   "outputs": [
    {
     "data": {
      "text/plain": [
       "array([[<AxesSubplot:title={'center':'distance'}>,\n",
       "        <AxesSubplot:title={'center':'time_stamp'}>],\n",
       "       [<AxesSubplot:title={'center':'price'}>,\n",
       "        <AxesSubplot:title={'center':'surge_multiplier'}>]], dtype=object)"
      ]
     },
     "execution_count": 17,
     "metadata": {},
     "output_type": "execute_result"
    },
    {
     "data": {
      "text/plain": [
       "<Figure size 1080x504 with 0 Axes>"
      ]
     },
     "metadata": {},
     "output_type": "display_data"
    },
    {
     "data": {
      "image/png": "[encoded data removed]",
      "text/plain": [
       "<Figure size 432x288 with 4 Axes>"
      ]
     },
     "metadata": {
      "needs_background": "light"
     },
     "output_type": "display_data"
    }
   ],
   "source": [
    "plt.figure(figsize=(15,7))\n",
    "df_IQR.hist()"
   ]
  },
  {
   "cell_type": "code",
   "execution_count": 18,
   "id": "f681dd62",
   "metadata": {},
   "outputs": [],
   "source": [
    "df_cabtype=df.groupby(\"cab_type\")\n",
    "df_Uber=df_cabtype.get_group('Uber')\n",
    "df_Lyft=df_cabtype.get_group('Lyft')"
   ]
  },
  {
   "cell_type": "code",
   "execution_count": 19,
   "id": "4e4f6f55",
   "metadata": {},
   "outputs": [
    {
     "ename": "TypeError",
     "evalue": "'Figure' object is not subscriptable",
     "output_type": "error",
     "traceback": [
      "\u001b[1;31m---------------------------------------------------------------------------\u001b[0m",
      "\u001b[1;31mTypeError\u001b[0m                                 Traceback (most recent call last)",
      "\u001b[1;32m~\\AppData\\Local\\Temp/ipykernel_6300/178531566.py\u001b[0m in \u001b[0;36m<module>\u001b[1;34m\u001b[0m\n\u001b[0;32m      1\u001b[0m \u001b[0max\u001b[0m\u001b[1;33m,\u001b[0m\u001b[0mfig\u001b[0m\u001b[1;33m=\u001b[0m\u001b[0mplt\u001b[0m\u001b[1;33m.\u001b[0m\u001b[0msubplots\u001b[0m\u001b[1;33m(\u001b[0m\u001b[1;36m1\u001b[0m\u001b[1;33m,\u001b[0m\u001b[1;36m2\u001b[0m\u001b[1;33m)\u001b[0m\u001b[1;33m\u001b[0m\u001b[1;33m\u001b[0m\u001b[0m\n\u001b[0;32m      2\u001b[0m \u001b[1;33m\u001b[0m\u001b[0m\n\u001b[1;32m----> 3\u001b[1;33m \u001b[0msns\u001b[0m\u001b[1;33m.\u001b[0m\u001b[0mlineplot\u001b[0m\u001b[1;33m(\u001b[0m\u001b[0max\u001b[0m\u001b[1;33m=\u001b[0m\u001b[0max\u001b[0m\u001b[1;33m[\u001b[0m\u001b[1;36m0\u001b[0m\u001b[1;33m,\u001b[0m\u001b[1;36m0\u001b[0m\u001b[1;33m]\u001b[0m\u001b[1;33m,\u001b[0m\u001b[0mx\u001b[0m\u001b[1;33m=\u001b[0m\u001b[1;34m\"price\"\u001b[0m\u001b[1;33m,\u001b[0m\u001b[0my\u001b[0m\u001b[1;33m=\u001b[0m\u001b[1;34m\"distance\"\u001b[0m\u001b[1;33m,\u001b[0m\u001b[0mdata\u001b[0m\u001b[1;33m=\u001b[0m\u001b[0mdf_Uber\u001b[0m\u001b[1;33m)\u001b[0m\u001b[1;33m\u001b[0m\u001b[1;33m\u001b[0m\u001b[0m\n\u001b[0m\u001b[0;32m      4\u001b[0m \u001b[0msns\u001b[0m\u001b[1;33m.\u001b[0m\u001b[0mlineplot\u001b[0m\u001b[1;33m(\u001b[0m\u001b[0max\u001b[0m\u001b[1;33m=\u001b[0m\u001b[0max\u001b[0m\u001b[1;33m[\u001b[0m\u001b[1;36m0\u001b[0m\u001b[1;33m,\u001b[0m\u001b[1;36m1\u001b[0m\u001b[1;33m]\u001b[0m\u001b[1;33m,\u001b[0m\u001b[0mx\u001b[0m\u001b[1;33m=\u001b[0m\u001b[1;34m\"price\"\u001b[0m\u001b[1;33m,\u001b[0m\u001b[0my\u001b[0m\u001b[1;33m=\u001b[0m\u001b[1;34m\"distance\"\u001b[0m\u001b[1;33m,\u001b[0m\u001b[0mdata\u001b[0m\u001b[1;33m=\u001b[0m\u001b[0mdf_Lyft\u001b[0m\u001b[1;33m)\u001b[0m\u001b[1;33m\u001b[0m\u001b[1;33m\u001b[0m\u001b[0m\n",
      "\u001b[1;31mTypeError\u001b[0m: 'Figure' object is not subscriptable"
     ]
    },
    {
     "data": {
      "image/png": "[encoded data removed]",
      "text/plain": [
       "<Figure size 432x288 with 2 Axes>"
      ]
     },
     "metadata": {
      "needs_background": "light"
     },
     "output_type": "display_data"
    }
   ],
   "source": [
    "\n",
    "ax,fig=plt.subplots(1,2)\n",
    "\n",
    "sns.lineplot(ax=ax[0,0],x=\"price\",y=\"distance\",data=df_Uber)\n",
    "sns.lineplot(ax=ax[0,1],x=\"price\",y=\"distance\",data=df_Lyft)"
   ]
  },
  {
   "cell_type": "code",
   "execution_count": null,
   "id": "9e00a77c",
   "metadata": {},
   "outputs": [],
   "source": []
  }
 ],
 "metadata": {
  "kernelspec": {
   "display_name": "Python 3 (ipykernel)",
   "language": "python",
   "name": "python3"
  },
  "language_info": {
   "codemirror_mode": {
    "name": "ipython",
    "version": 3
   },
   "file_extension": ".py",
   "mimetype": "text/x-python",
   "name": "python",
   "nbconvert_exporter": "python",
   "pygments_lexer": "ipython3",
   "version": "3.9.7"
  }
 },
 "nbformat": 4,
 "nbformat_minor": 5
}
