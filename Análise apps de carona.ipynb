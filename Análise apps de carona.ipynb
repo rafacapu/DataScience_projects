{
 "cells": [
  {
   "cell_type": "markdown",
   "id": "b3e2f623",
   "metadata": {},
   "source": [
    "# Análise dos dados de aplicativos de carona \n",
    "\n",
    "\n",
    "###### Autor: Rafael Capuano\n",
    "\n",
    "#### Os dados foram fornecidos no site Kaggle.com\n",
    "###### link:https://www.kaggle.com/code/nich0047/starter-uber-lyft-cab-prices-592a14e1-d/data\n",
    "\n",
    " Esta é uma pequena análise descritiva dos dados referentes ao uso de aplicativos de carona na região de NY,utilizando a linguagem python e suas respectivas bibliotecas pandas, matplotlib e seaborn, podemos analisar os dados,analisa-los, limpa-los e a partir disso,retirar informações úteis.\n",
    "\n"
   ]
  },
  {
   "cell_type": "markdown",
   "id": "0a217078",
   "metadata": {},
   "source": [
    "#### Primeiro passo: Adicionando as bibliotecas.\n"
   ]
  },
  {
   "cell_type": "code",
   "execution_count": 1,
   "id": "9655b49b",
   "metadata": {},
   "outputs": [],
   "source": [
    "import pandas as pd\n",
    "import numpy as np\n",
    "from pandas import Series, DataFrame\n",
    "from scipy.stats import norm\n",
    "from sklearn.preprocessing import StandardScaler\n",
    "from scipy import stats\n",
    "import matplotlib.pyplot as plt\n",
    "import seaborn as sns\n",
    "import json\n",
    "from numpy import genfromtxt\n",
    "from scipy.stats import zscore\n",
    "from scipy import stats"
   ]
  },
  {
   "cell_type": "markdown",
   "id": "e7fe919a",
   "metadata": {},
   "source": [
    "###### Gerando o Data Frame a partir de um arquivo .csv\n",
    "\n",
    "Usando a função read_csv do pandas, podemos abrir e ler o arquivo \"cab_rides.csv\" como um dataframe.A partir dele podemos então resolver analisar os dados."
   ]
  },
  {
   "cell_type": "code",
   "execution_count": 2,
   "id": "38640dae",
   "metadata": {},
   "outputs": [],
   "source": [
    "df=pd.read_csv(\"cab_rides.csv\")"
   ]
  },
  {
   "cell_type": "markdown",
   "id": "0754014c",
   "metadata": {},
   "source": [
    "###### Visualizando as primeiras linhas\n",
    "\n",
    "basta usar a função \".head()\", esta função pode receber como argumento o número de linhas que queremos visualizar."
   ]
  },
  {
   "cell_type": "code",
   "execution_count": 3,
   "id": "acabec35",
   "metadata": {},
   "outputs": [
    {
     "data": {
      "text/html": [
       "<div>\n",
       "<style scoped>\n",
       "    .dataframe tbody tr th:only-of-type {\n",
       "        vertical-align: middle;\n",
       "    }\n",
       "\n",
       "    .dataframe tbody tr th {\n",
       "        vertical-align: top;\n",
       "    }\n",
       "\n",
       "    .dataframe thead th {\n",
       "        text-align: right;\n",
       "    }\n",
       "</style>\n",
       "<table border=\"1\" class=\"dataframe\">\n",
       "  <thead>\n",
       "    <tr style=\"text-align: right;\">\n",
       "      <th></th>\n",
       "      <th>distance</th>\n",
       "      <th>cab_type</th>\n",
       "      <th>time_stamp</th>\n",
       "      <th>destination</th>\n",
       "      <th>source</th>\n",
       "      <th>price</th>\n",
       "      <th>surge_multiplier</th>\n",
       "      <th>id</th>\n",
       "      <th>product_id</th>\n",
       "      <th>name</th>\n",
       "    </tr>\n",
       "  </thead>\n",
       "  <tbody>\n",
       "    <tr>\n",
       "      <th>0</th>\n",
       "      <td>0.44</td>\n",
       "      <td>Lyft</td>\n",
       "      <td>1544952607890</td>\n",
       "      <td>North Station</td>\n",
       "      <td>Haymarket Square</td>\n",
       "      <td>5.0</td>\n",
       "      <td>1.0</td>\n",
       "      <td>424553bb-7174-41ea-aeb4-fe06d4f4b9d7</td>\n",
       "      <td>lyft_line</td>\n",
       "      <td>Shared</td>\n",
       "    </tr>\n",
       "    <tr>\n",
       "      <th>1</th>\n",
       "      <td>0.44</td>\n",
       "      <td>Lyft</td>\n",
       "      <td>1543284023677</td>\n",
       "      <td>North Station</td>\n",
       "      <td>Haymarket Square</td>\n",
       "      <td>11.0</td>\n",
       "      <td>1.0</td>\n",
       "      <td>4bd23055-6827-41c6-b23b-3c491f24e74d</td>\n",
       "      <td>lyft_premier</td>\n",
       "      <td>Lux</td>\n",
       "    </tr>\n",
       "    <tr>\n",
       "      <th>2</th>\n",
       "      <td>0.44</td>\n",
       "      <td>Lyft</td>\n",
       "      <td>1543366822198</td>\n",
       "      <td>North Station</td>\n",
       "      <td>Haymarket Square</td>\n",
       "      <td>7.0</td>\n",
       "      <td>1.0</td>\n",
       "      <td>981a3613-77af-4620-a42a-0c0866077d1e</td>\n",
       "      <td>lyft</td>\n",
       "      <td>Lyft</td>\n",
       "    </tr>\n",
       "    <tr>\n",
       "      <th>3</th>\n",
       "      <td>0.44</td>\n",
       "      <td>Lyft</td>\n",
       "      <td>1543553582749</td>\n",
       "      <td>North Station</td>\n",
       "      <td>Haymarket Square</td>\n",
       "      <td>26.0</td>\n",
       "      <td>1.0</td>\n",
       "      <td>c2d88af2-d278-4bfd-a8d0-29ca77cc5512</td>\n",
       "      <td>lyft_luxsuv</td>\n",
       "      <td>Lux Black XL</td>\n",
       "    </tr>\n",
       "    <tr>\n",
       "      <th>4</th>\n",
       "      <td>0.44</td>\n",
       "      <td>Lyft</td>\n",
       "      <td>1543463360223</td>\n",
       "      <td>North Station</td>\n",
       "      <td>Haymarket Square</td>\n",
       "      <td>9.0</td>\n",
       "      <td>1.0</td>\n",
       "      <td>e0126e1f-8ca9-4f2e-82b3-50505a09db9a</td>\n",
       "      <td>lyft_plus</td>\n",
       "      <td>Lyft XL</td>\n",
       "    </tr>\n",
       "    <tr>\n",
       "      <th>5</th>\n",
       "      <td>0.44</td>\n",
       "      <td>Lyft</td>\n",
       "      <td>1545071112138</td>\n",
       "      <td>North Station</td>\n",
       "      <td>Haymarket Square</td>\n",
       "      <td>16.5</td>\n",
       "      <td>1.0</td>\n",
       "      <td>f6f6d7e4-3e18-4922-a5f5-181cdd3fa6f2</td>\n",
       "      <td>lyft_lux</td>\n",
       "      <td>Lux Black</td>\n",
       "    </tr>\n",
       "    <tr>\n",
       "      <th>6</th>\n",
       "      <td>1.08</td>\n",
       "      <td>Lyft</td>\n",
       "      <td>1543208580200</td>\n",
       "      <td>Northeastern University</td>\n",
       "      <td>Back Bay</td>\n",
       "      <td>10.5</td>\n",
       "      <td>1.0</td>\n",
       "      <td>462816a3-820d-408b-8549-0b39e82f65ac</td>\n",
       "      <td>lyft_plus</td>\n",
       "      <td>Lyft XL</td>\n",
       "    </tr>\n",
       "    <tr>\n",
       "      <th>7</th>\n",
       "      <td>1.08</td>\n",
       "      <td>Lyft</td>\n",
       "      <td>1543780384677</td>\n",
       "      <td>Northeastern University</td>\n",
       "      <td>Back Bay</td>\n",
       "      <td>16.5</td>\n",
       "      <td>1.0</td>\n",
       "      <td>474d6376-bc59-4ec9-bf57-4e6d6faeb165</td>\n",
       "      <td>lyft_lux</td>\n",
       "      <td>Lux Black</td>\n",
       "    </tr>\n",
       "    <tr>\n",
       "      <th>8</th>\n",
       "      <td>1.08</td>\n",
       "      <td>Lyft</td>\n",
       "      <td>1543818482645</td>\n",
       "      <td>Northeastern University</td>\n",
       "      <td>Back Bay</td>\n",
       "      <td>3.0</td>\n",
       "      <td>1.0</td>\n",
       "      <td>4f9fee41-fde3-4767-bbf1-a00e108701fb</td>\n",
       "      <td>lyft_line</td>\n",
       "      <td>Shared</td>\n",
       "    </tr>\n",
       "    <tr>\n",
       "      <th>9</th>\n",
       "      <td>1.08</td>\n",
       "      <td>Lyft</td>\n",
       "      <td>1543315522249</td>\n",
       "      <td>Northeastern University</td>\n",
       "      <td>Back Bay</td>\n",
       "      <td>27.5</td>\n",
       "      <td>1.0</td>\n",
       "      <td>8612d909-98b8-4454-a093-30bd48de0cb3</td>\n",
       "      <td>lyft_luxsuv</td>\n",
       "      <td>Lux Black XL</td>\n",
       "    </tr>\n",
       "    <tr>\n",
       "      <th>10</th>\n",
       "      <td>1.08</td>\n",
       "      <td>Lyft</td>\n",
       "      <td>1543594383882</td>\n",
       "      <td>Northeastern University</td>\n",
       "      <td>Back Bay</td>\n",
       "      <td>13.5</td>\n",
       "      <td>1.0</td>\n",
       "      <td>9043bf77-1d45-4a93-9520-a083e0277f16</td>\n",
       "      <td>lyft_premier</td>\n",
       "      <td>Lux</td>\n",
       "    </tr>\n",
       "    <tr>\n",
       "      <th>11</th>\n",
       "      <td>1.08</td>\n",
       "      <td>Lyft</td>\n",
       "      <td>1543432987778</td>\n",
       "      <td>Northeastern University</td>\n",
       "      <td>Back Bay</td>\n",
       "      <td>7.0</td>\n",
       "      <td>1.0</td>\n",
       "      <td>d859ec69-b3ff-4af8-9abd-441e31430c94</td>\n",
       "      <td>lyft</td>\n",
       "      <td>Lyft</td>\n",
       "    </tr>\n",
       "    <tr>\n",
       "      <th>12</th>\n",
       "      <td>1.11</td>\n",
       "      <td>Uber</td>\n",
       "      <td>1543615981179</td>\n",
       "      <td>West End</td>\n",
       "      <td>North End</td>\n",
       "      <td>12.0</td>\n",
       "      <td>1.0</td>\n",
       "      <td>009e9c53-074d-43cf-aef2-0fbc7a47ed3d</td>\n",
       "      <td>6f72dfc5-27f1-42e8-84db-ccc7a75f6969</td>\n",
       "      <td>UberXL</td>\n",
       "    </tr>\n",
       "    <tr>\n",
       "      <th>13</th>\n",
       "      <td>1.11</td>\n",
       "      <td>Uber</td>\n",
       "      <td>1544698211014</td>\n",
       "      <td>West End</td>\n",
       "      <td>North End</td>\n",
       "      <td>16.0</td>\n",
       "      <td>1.0</td>\n",
       "      <td>23f145da-f0c1-4d1f-a184-496bc003a7db</td>\n",
       "      <td>6c84fd89-3f11-4782-9b50-97c468b19529</td>\n",
       "      <td>Black</td>\n",
       "    </tr>\n",
       "    <tr>\n",
       "      <th>14</th>\n",
       "      <td>1.11</td>\n",
       "      <td>Uber</td>\n",
       "      <td>1544728503935</td>\n",
       "      <td>West End</td>\n",
       "      <td>North End</td>\n",
       "      <td>7.5</td>\n",
       "      <td>1.0</td>\n",
       "      <td>357559cb-8c58-4278-a41a-e33b2e0997a3</td>\n",
       "      <td>55c66225-fbe7-4fd5-9072-eab1ece5e23e</td>\n",
       "      <td>UberX</td>\n",
       "    </tr>\n",
       "  </tbody>\n",
       "</table>\n",
       "</div>"
      ],
      "text/plain": [
       "    distance cab_type     time_stamp              destination  \\\n",
       "0       0.44     Lyft  1544952607890            North Station   \n",
       "1       0.44     Lyft  1543284023677            North Station   \n",
       "2       0.44     Lyft  1543366822198            North Station   \n",
       "3       0.44     Lyft  1543553582749            North Station   \n",
       "4       0.44     Lyft  1543463360223            North Station   \n",
       "5       0.44     Lyft  1545071112138            North Station   \n",
       "6       1.08     Lyft  1543208580200  Northeastern University   \n",
       "7       1.08     Lyft  1543780384677  Northeastern University   \n",
       "8       1.08     Lyft  1543818482645  Northeastern University   \n",
       "9       1.08     Lyft  1543315522249  Northeastern University   \n",
       "10      1.08     Lyft  1543594383882  Northeastern University   \n",
       "11      1.08     Lyft  1543432987778  Northeastern University   \n",
       "12      1.11     Uber  1543615981179                 West End   \n",
       "13      1.11     Uber  1544698211014                 West End   \n",
       "14      1.11     Uber  1544728503935                 West End   \n",
       "\n",
       "              source  price  surge_multiplier  \\\n",
       "0   Haymarket Square    5.0               1.0   \n",
       "1   Haymarket Square   11.0               1.0   \n",
       "2   Haymarket Square    7.0               1.0   \n",
       "3   Haymarket Square   26.0               1.0   \n",
       "4   Haymarket Square    9.0               1.0   \n",
       "5   Haymarket Square   16.5               1.0   \n",
       "6           Back Bay   10.5               1.0   \n",
       "7           Back Bay   16.5               1.0   \n",
       "8           Back Bay    3.0               1.0   \n",
       "9           Back Bay   27.5               1.0   \n",
       "10          Back Bay   13.5               1.0   \n",
       "11          Back Bay    7.0               1.0   \n",
       "12         North End   12.0               1.0   \n",
       "13         North End   16.0               1.0   \n",
       "14         North End    7.5               1.0   \n",
       "\n",
       "                                      id  \\\n",
       "0   424553bb-7174-41ea-aeb4-fe06d4f4b9d7   \n",
       "1   4bd23055-6827-41c6-b23b-3c491f24e74d   \n",
       "2   981a3613-77af-4620-a42a-0c0866077d1e   \n",
       "3   c2d88af2-d278-4bfd-a8d0-29ca77cc5512   \n",
       "4   e0126e1f-8ca9-4f2e-82b3-50505a09db9a   \n",
       "5   f6f6d7e4-3e18-4922-a5f5-181cdd3fa6f2   \n",
       "6   462816a3-820d-408b-8549-0b39e82f65ac   \n",
       "7   474d6376-bc59-4ec9-bf57-4e6d6faeb165   \n",
       "8   4f9fee41-fde3-4767-bbf1-a00e108701fb   \n",
       "9   8612d909-98b8-4454-a093-30bd48de0cb3   \n",
       "10  9043bf77-1d45-4a93-9520-a083e0277f16   \n",
       "11  d859ec69-b3ff-4af8-9abd-441e31430c94   \n",
       "12  009e9c53-074d-43cf-aef2-0fbc7a47ed3d   \n",
       "13  23f145da-f0c1-4d1f-a184-496bc003a7db   \n",
       "14  357559cb-8c58-4278-a41a-e33b2e0997a3   \n",
       "\n",
       "                              product_id          name  \n",
       "0                              lyft_line        Shared  \n",
       "1                           lyft_premier           Lux  \n",
       "2                                   lyft          Lyft  \n",
       "3                            lyft_luxsuv  Lux Black XL  \n",
       "4                              lyft_plus       Lyft XL  \n",
       "5                               lyft_lux     Lux Black  \n",
       "6                              lyft_plus       Lyft XL  \n",
       "7                               lyft_lux     Lux Black  \n",
       "8                              lyft_line        Shared  \n",
       "9                            lyft_luxsuv  Lux Black XL  \n",
       "10                          lyft_premier           Lux  \n",
       "11                                  lyft          Lyft  \n",
       "12  6f72dfc5-27f1-42e8-84db-ccc7a75f6969        UberXL  \n",
       "13  6c84fd89-3f11-4782-9b50-97c468b19529         Black  \n",
       "14  55c66225-fbe7-4fd5-9072-eab1ece5e23e         UberX  "
      ]
     },
     "execution_count": 3,
     "metadata": {},
     "output_type": "execute_result"
    }
   ],
   "source": [
    "df.head(15)"
   ]
  },
  {
   "cell_type": "markdown",
   "id": "16465b58",
   "metadata": {},
   "source": [
    "##### Visualisizando as últimas linhas.\n",
    "\n",
    "A função \".tail()\" nos permite visualizar as últimas linhas do dataframe, e da mesma forma que a função \".head()\" ela e capaz de receber como argumento o número de linhas"
   ]
  },
  {
   "cell_type": "code",
   "execution_count": 4,
   "id": "94e0a120",
   "metadata": {},
   "outputs": [
    {
     "data": {
      "text/html": [
       "<div>\n",
       "<style scoped>\n",
       "    .dataframe tbody tr th:only-of-type {\n",
       "        vertical-align: middle;\n",
       "    }\n",
       "\n",
       "    .dataframe tbody tr th {\n",
       "        vertical-align: top;\n",
       "    }\n",
       "\n",
       "    .dataframe thead th {\n",
       "        text-align: right;\n",
       "    }\n",
       "</style>\n",
       "<table border=\"1\" class=\"dataframe\">\n",
       "  <thead>\n",
       "    <tr style=\"text-align: right;\">\n",
       "      <th></th>\n",
       "      <th>distance</th>\n",
       "      <th>cab_type</th>\n",
       "      <th>time_stamp</th>\n",
       "      <th>destination</th>\n",
       "      <th>source</th>\n",
       "      <th>price</th>\n",
       "      <th>surge_multiplier</th>\n",
       "      <th>id</th>\n",
       "      <th>product_id</th>\n",
       "      <th>name</th>\n",
       "    </tr>\n",
       "  </thead>\n",
       "  <tbody>\n",
       "    <tr>\n",
       "      <th>693056</th>\n",
       "      <td>0.91</td>\n",
       "      <td>Uber</td>\n",
       "      <td>1543456028123</td>\n",
       "      <td>Beacon Hill</td>\n",
       "      <td>Haymarket Square</td>\n",
       "      <td>7.0</td>\n",
       "      <td>1.0</td>\n",
       "      <td>d1a50035-184d-4e63-8aa1-813b497e293e</td>\n",
       "      <td>9a0e7b09-b92b-4c41-9779-2ad22b4d779d</td>\n",
       "      <td>WAV</td>\n",
       "    </tr>\n",
       "    <tr>\n",
       "      <th>693057</th>\n",
       "      <td>1.61</td>\n",
       "      <td>Uber</td>\n",
       "      <td>1543456028123</td>\n",
       "      <td>Haymarket Square</td>\n",
       "      <td>Theatre District</td>\n",
       "      <td>17.0</td>\n",
       "      <td>1.0</td>\n",
       "      <td>0f13e495-cd0a-4b87-8219-b9a4ae06ece7</td>\n",
       "      <td>6c84fd89-3f11-4782-9b50-97c468b19529</td>\n",
       "      <td>Black</td>\n",
       "    </tr>\n",
       "    <tr>\n",
       "      <th>693058</th>\n",
       "      <td>1.61</td>\n",
       "      <td>Uber</td>\n",
       "      <td>1543456028123</td>\n",
       "      <td>Haymarket Square</td>\n",
       "      <td>Theatre District</td>\n",
       "      <td>22.0</td>\n",
       "      <td>1.0</td>\n",
       "      <td>16ccd6b9-a294-41c1-9827-0e44bd92db15</td>\n",
       "      <td>6f72dfc5-27f1-42e8-84db-ccc7a75f6969</td>\n",
       "      <td>UberXL</td>\n",
       "    </tr>\n",
       "    <tr>\n",
       "      <th>693059</th>\n",
       "      <td>1.61</td>\n",
       "      <td>Uber</td>\n",
       "      <td>1543728484149</td>\n",
       "      <td>Haymarket Square</td>\n",
       "      <td>Theatre District</td>\n",
       "      <td>14.0</td>\n",
       "      <td>1.0</td>\n",
       "      <td>178bfa35-7df5-4ef8-a6eb-42a65f95bcce</td>\n",
       "      <td>997acbb5-e102-41e1-b155-9df7de0a73f2</td>\n",
       "      <td>UberPool</td>\n",
       "    </tr>\n",
       "    <tr>\n",
       "      <th>693060</th>\n",
       "      <td>1.61</td>\n",
       "      <td>Uber</td>\n",
       "      <td>1543728484149</td>\n",
       "      <td>Haymarket Square</td>\n",
       "      <td>Theatre District</td>\n",
       "      <td>NaN</td>\n",
       "      <td>1.0</td>\n",
       "      <td>50a7b6be-ed2a-4a11-8d36-73bd977ad66a</td>\n",
       "      <td>8cf7e821-f0d3-49c6-8eba-e679c0ebcf6a</td>\n",
       "      <td>Taxi</td>\n",
       "    </tr>\n",
       "    <tr>\n",
       "      <th>693061</th>\n",
       "      <td>1.61</td>\n",
       "      <td>Uber</td>\n",
       "      <td>1543728484149</td>\n",
       "      <td>Haymarket Square</td>\n",
       "      <td>Theatre District</td>\n",
       "      <td>15.0</td>\n",
       "      <td>1.0</td>\n",
       "      <td>54362c72-124b-47e8-8d07-62a07cfff624</td>\n",
       "      <td>55c66225-fbe7-4fd5-9072-eab1ece5e23e</td>\n",
       "      <td>UberX</td>\n",
       "    </tr>\n",
       "    <tr>\n",
       "      <th>693062</th>\n",
       "      <td>1.61</td>\n",
       "      <td>Uber</td>\n",
       "      <td>1543728484149</td>\n",
       "      <td>Haymarket Square</td>\n",
       "      <td>Theatre District</td>\n",
       "      <td>15.0</td>\n",
       "      <td>1.0</td>\n",
       "      <td>64a50889-d05b-49de-b416-1802db5c27ac</td>\n",
       "      <td>9a0e7b09-b92b-4c41-9779-2ad22b4d779d</td>\n",
       "      <td>WAV</td>\n",
       "    </tr>\n",
       "    <tr>\n",
       "      <th>693063</th>\n",
       "      <td>1.61</td>\n",
       "      <td>Uber</td>\n",
       "      <td>1543728484149</td>\n",
       "      <td>Haymarket Square</td>\n",
       "      <td>Theatre District</td>\n",
       "      <td>27.0</td>\n",
       "      <td>1.0</td>\n",
       "      <td>6c1d9207-a9af-431e-a65f-3d9d205f28bf</td>\n",
       "      <td>6d318bcc-22a3-4af6-bddd-b409bfce1546</td>\n",
       "      <td>Black SUV</td>\n",
       "    </tr>\n",
       "    <tr>\n",
       "      <th>693064</th>\n",
       "      <td>1.00</td>\n",
       "      <td>Uber</td>\n",
       "      <td>1543728484149</td>\n",
       "      <td>North End</td>\n",
       "      <td>West End</td>\n",
       "      <td>17.0</td>\n",
       "      <td>1.0</td>\n",
       "      <td>25ed29df-4f9c-4aac-8218-681427f1d738</td>\n",
       "      <td>6c84fd89-3f11-4782-9b50-97c468b19529</td>\n",
       "      <td>Black</td>\n",
       "    </tr>\n",
       "    <tr>\n",
       "      <th>693065</th>\n",
       "      <td>1.00</td>\n",
       "      <td>Uber</td>\n",
       "      <td>1543708385534</td>\n",
       "      <td>North End</td>\n",
       "      <td>West End</td>\n",
       "      <td>9.5</td>\n",
       "      <td>1.0</td>\n",
       "      <td>353e6566-b272-479e-a9c6-98bd6cb23f25</td>\n",
       "      <td>9a0e7b09-b92b-4c41-9779-2ad22b4d779d</td>\n",
       "      <td>WAV</td>\n",
       "    </tr>\n",
       "    <tr>\n",
       "      <th>693066</th>\n",
       "      <td>1.00</td>\n",
       "      <td>Uber</td>\n",
       "      <td>1543708385534</td>\n",
       "      <td>North End</td>\n",
       "      <td>West End</td>\n",
       "      <td>13.0</td>\n",
       "      <td>1.0</td>\n",
       "      <td>616d3611-1820-450a-9845-a9ff304a4842</td>\n",
       "      <td>6f72dfc5-27f1-42e8-84db-ccc7a75f6969</td>\n",
       "      <td>UberXL</td>\n",
       "    </tr>\n",
       "    <tr>\n",
       "      <th>693067</th>\n",
       "      <td>1.00</td>\n",
       "      <td>Uber</td>\n",
       "      <td>1543708385534</td>\n",
       "      <td>North End</td>\n",
       "      <td>West End</td>\n",
       "      <td>9.5</td>\n",
       "      <td>1.0</td>\n",
       "      <td>633a3fc3-1f86-4b9e-9d48-2b7132112341</td>\n",
       "      <td>55c66225-fbe7-4fd5-9072-eab1ece5e23e</td>\n",
       "      <td>UberX</td>\n",
       "    </tr>\n",
       "    <tr>\n",
       "      <th>693068</th>\n",
       "      <td>1.00</td>\n",
       "      <td>Uber</td>\n",
       "      <td>1543708385534</td>\n",
       "      <td>North End</td>\n",
       "      <td>West End</td>\n",
       "      <td>NaN</td>\n",
       "      <td>1.0</td>\n",
       "      <td>64d451d0-639f-47a4-9b7c-6fd92fbd264f</td>\n",
       "      <td>8cf7e821-f0d3-49c6-8eba-e679c0ebcf6a</td>\n",
       "      <td>Taxi</td>\n",
       "    </tr>\n",
       "    <tr>\n",
       "      <th>693069</th>\n",
       "      <td>1.00</td>\n",
       "      <td>Uber</td>\n",
       "      <td>1543708385534</td>\n",
       "      <td>North End</td>\n",
       "      <td>West End</td>\n",
       "      <td>27.0</td>\n",
       "      <td>1.0</td>\n",
       "      <td>727e5f07-a96b-4ad1-a2c7-9abc3ad55b4e</td>\n",
       "      <td>6d318bcc-22a3-4af6-bddd-b409bfce1546</td>\n",
       "      <td>Black SUV</td>\n",
       "    </tr>\n",
       "    <tr>\n",
       "      <th>693070</th>\n",
       "      <td>1.00</td>\n",
       "      <td>Uber</td>\n",
       "      <td>1543708385534</td>\n",
       "      <td>North End</td>\n",
       "      <td>West End</td>\n",
       "      <td>10.0</td>\n",
       "      <td>1.0</td>\n",
       "      <td>e7fdc087-fe86-40a5-a3c3-3b2a8badcbda</td>\n",
       "      <td>997acbb5-e102-41e1-b155-9df7de0a73f2</td>\n",
       "      <td>UberPool</td>\n",
       "    </tr>\n",
       "  </tbody>\n",
       "</table>\n",
       "</div>"
      ],
      "text/plain": [
       "        distance cab_type     time_stamp       destination            source  \\\n",
       "693056      0.91     Uber  1543456028123       Beacon Hill  Haymarket Square   \n",
       "693057      1.61     Uber  1543456028123  Haymarket Square  Theatre District   \n",
       "693058      1.61     Uber  1543456028123  Haymarket Square  Theatre District   \n",
       "693059      1.61     Uber  1543728484149  Haymarket Square  Theatre District   \n",
       "693060      1.61     Uber  1543728484149  Haymarket Square  Theatre District   \n",
       "693061      1.61     Uber  1543728484149  Haymarket Square  Theatre District   \n",
       "693062      1.61     Uber  1543728484149  Haymarket Square  Theatre District   \n",
       "693063      1.61     Uber  1543728484149  Haymarket Square  Theatre District   \n",
       "693064      1.00     Uber  1543728484149         North End          West End   \n",
       "693065      1.00     Uber  1543708385534         North End          West End   \n",
       "693066      1.00     Uber  1543708385534         North End          West End   \n",
       "693067      1.00     Uber  1543708385534         North End          West End   \n",
       "693068      1.00     Uber  1543708385534         North End          West End   \n",
       "693069      1.00     Uber  1543708385534         North End          West End   \n",
       "693070      1.00     Uber  1543708385534         North End          West End   \n",
       "\n",
       "        price  surge_multiplier                                    id  \\\n",
       "693056    7.0               1.0  d1a50035-184d-4e63-8aa1-813b497e293e   \n",
       "693057   17.0               1.0  0f13e495-cd0a-4b87-8219-b9a4ae06ece7   \n",
       "693058   22.0               1.0  16ccd6b9-a294-41c1-9827-0e44bd92db15   \n",
       "693059   14.0               1.0  178bfa35-7df5-4ef8-a6eb-42a65f95bcce   \n",
       "693060    NaN               1.0  50a7b6be-ed2a-4a11-8d36-73bd977ad66a   \n",
       "693061   15.0               1.0  54362c72-124b-47e8-8d07-62a07cfff624   \n",
       "693062   15.0               1.0  64a50889-d05b-49de-b416-1802db5c27ac   \n",
       "693063   27.0               1.0  6c1d9207-a9af-431e-a65f-3d9d205f28bf   \n",
       "693064   17.0               1.0  25ed29df-4f9c-4aac-8218-681427f1d738   \n",
       "693065    9.5               1.0  353e6566-b272-479e-a9c6-98bd6cb23f25   \n",
       "693066   13.0               1.0  616d3611-1820-450a-9845-a9ff304a4842   \n",
       "693067    9.5               1.0  633a3fc3-1f86-4b9e-9d48-2b7132112341   \n",
       "693068    NaN               1.0  64d451d0-639f-47a4-9b7c-6fd92fbd264f   \n",
       "693069   27.0               1.0  727e5f07-a96b-4ad1-a2c7-9abc3ad55b4e   \n",
       "693070   10.0               1.0  e7fdc087-fe86-40a5-a3c3-3b2a8badcbda   \n",
       "\n",
       "                                  product_id       name  \n",
       "693056  9a0e7b09-b92b-4c41-9779-2ad22b4d779d        WAV  \n",
       "693057  6c84fd89-3f11-4782-9b50-97c468b19529      Black  \n",
       "693058  6f72dfc5-27f1-42e8-84db-ccc7a75f6969     UberXL  \n",
       "693059  997acbb5-e102-41e1-b155-9df7de0a73f2   UberPool  \n",
       "693060  8cf7e821-f0d3-49c6-8eba-e679c0ebcf6a       Taxi  \n",
       "693061  55c66225-fbe7-4fd5-9072-eab1ece5e23e      UberX  \n",
       "693062  9a0e7b09-b92b-4c41-9779-2ad22b4d779d        WAV  \n",
       "693063  6d318bcc-22a3-4af6-bddd-b409bfce1546  Black SUV  \n",
       "693064  6c84fd89-3f11-4782-9b50-97c468b19529      Black  \n",
       "693065  9a0e7b09-b92b-4c41-9779-2ad22b4d779d        WAV  \n",
       "693066  6f72dfc5-27f1-42e8-84db-ccc7a75f6969     UberXL  \n",
       "693067  55c66225-fbe7-4fd5-9072-eab1ece5e23e      UberX  \n",
       "693068  8cf7e821-f0d3-49c6-8eba-e679c0ebcf6a       Taxi  \n",
       "693069  6d318bcc-22a3-4af6-bddd-b409bfce1546  Black SUV  \n",
       "693070  997acbb5-e102-41e1-b155-9df7de0a73f2   UberPool  "
      ]
     },
     "execution_count": 4,
     "metadata": {},
     "output_type": "execute_result"
    }
   ],
   "source": [
    "df.tail(15)"
   ]
  },
  {
   "cell_type": "markdown",
   "id": "34fdca31",
   "metadata": {},
   "source": [
    "### Analisando as colunas\n",
    "\n",
    " Utilizando a função \"info()\",podemos  visualizar o tipo de cada coluna."
   ]
  },
  {
   "cell_type": "code",
   "execution_count": 5,
   "id": "a6ecaa88",
   "metadata": {},
   "outputs": [
    {
     "name": "stdout",
     "output_type": "stream",
     "text": [
      "<class 'pandas.core.frame.DataFrame'>\n",
      "RangeIndex: 693071 entries, 0 to 693070\n",
      "Data columns (total 10 columns):\n",
      " #   Column            Non-Null Count   Dtype  \n",
      "---  ------            --------------   -----  \n",
      " 0   distance          693071 non-null  float64\n",
      " 1   cab_type          693071 non-null  object \n",
      " 2   time_stamp        693071 non-null  int64  \n",
      " 3   destination       693071 non-null  object \n",
      " 4   source            693071 non-null  object \n",
      " 5   price             637976 non-null  float64\n",
      " 6   surge_multiplier  693071 non-null  float64\n",
      " 7   id                693071 non-null  object \n",
      " 8   product_id        693071 non-null  object \n",
      " 9   name              693071 non-null  object \n",
      "dtypes: float64(3), int64(1), object(6)\n",
      "memory usage: 52.9+ MB\n"
     ]
    }
   ],
   "source": [
    "df.info()"
   ]
  },
  {
   "cell_type": "markdown",
   "id": "d7e9e30a",
   "metadata": {},
   "source": [
    "###### Notamos então, que  existem 6 objetos, 3 tipo float e um inteiro."
   ]
  },
  {
   "cell_type": "markdown",
   "id": "7f4caf74",
   "metadata": {},
   "source": [
    "### Podemos então começar o procedimento de limpeza do Data Frame.\n",
    "\n",
    "Primeiramente, analisamos as dimensões do a dataframe através da função shape() e se o mesmo e se o mesmo possuí campos nulos. Para a última , usamos uma combinação de duas funções: a função \"isnull()\" é capaz de detectar se uma célula é nula, a função \"sum()\" é capaz de contar quantas células possuem."
   ]
  },
  {
   "cell_type": "code",
   "execution_count": 6,
   "id": "1affa2a3",
   "metadata": {},
   "outputs": [
    {
     "data": {
      "text/plain": [
       "(693071, 10)"
      ]
     },
     "execution_count": 6,
     "metadata": {},
     "output_type": "execute_result"
    }
   ],
   "source": [
    "df.shape"
   ]
  },
  {
   "cell_type": "code",
   "execution_count": 7,
   "id": "1962fcc4",
   "metadata": {
    "scrolled": true
   },
   "outputs": [
    {
     "data": {
      "text/plain": [
       "distance                0\n",
       "cab_type                0\n",
       "time_stamp              0\n",
       "destination             0\n",
       "source                  0\n",
       "price               55095\n",
       "surge_multiplier        0\n",
       "id                      0\n",
       "product_id              0\n",
       "name                    0\n",
       "dtype: int64"
      ]
     },
     "execution_count": 7,
     "metadata": {},
     "output_type": "execute_result"
    }
   ],
   "source": [
    "df.isnull().sum()"
   ]
  },
  {
   "cell_type": "markdown",
   "id": "6b66dca7",
   "metadata": {},
   "source": [
    "###### Podemos então notar, que existem 55095 valores nulos no campo \" price\"."
   ]
  },
  {
   "cell_type": "markdown",
   "id": "693aa745",
   "metadata": {},
   "source": [
    "#### Lidando com valores nulos.\n",
    "\n",
    "Existem diversas formas de lidar com valores nulos,podemos simplesmente deletar do data frame, podemos substituir pelo valor mais recorrente, ou substituir pela mediana de valores apresentados pela coluna. Deletar os valores pode resultar em perda de informação valiosa.Portanto a melhor estratégia, na minha opinião será substituir por valores alternativos que não prejudiquem a análise dos dados.\n",
    "\n",
    " Nesse caso, substituimos pela média.\n",
    "\n"
   ]
  },
  {
   "cell_type": "code",
   "execution_count": 8,
   "id": "c8bff6df",
   "metadata": {},
   "outputs": [
    {
     "data": {
      "text/plain": [
       "distance            0\n",
       "cab_type            0\n",
       "time_stamp          0\n",
       "destination         0\n",
       "source              0\n",
       "price               0\n",
       "surge_multiplier    0\n",
       "id                  0\n",
       "product_id          0\n",
       "name                0\n",
       "dtype: int64"
      ]
     },
     "execution_count": 8,
     "metadata": {},
     "output_type": "execute_result"
    }
   ],
   "source": [
    "df[\"price\"].fillna(df[\"price\"].mean(),inplace=True)\n",
    "df.isnull().sum()"
   ]
  },
  {
   "cell_type": "markdown",
   "id": "6805bf0e",
   "metadata": {},
   "source": [
    "#### Podemos analisar se o data frame possui então valores duplicados, usando a função \"duplicated()\" e a função \"value_counts()\""
   ]
  },
  {
   "cell_type": "code",
   "execution_count": 9,
   "id": "790054bc",
   "metadata": {},
   "outputs": [
    {
     "data": {
      "text/plain": [
       "0"
      ]
     },
     "execution_count": 9,
     "metadata": {},
     "output_type": "execute_result"
    }
   ],
   "source": [
    "df.duplicated().sum()\n"
   ]
  },
  {
   "cell_type": "markdown",
   "id": "2970af2a",
   "metadata": {},
   "source": [
    "Como podemos ver, não possuí duplicatas."
   ]
  },
  {
   "cell_type": "markdown",
   "id": "fb5a33f8",
   "metadata": {},
   "source": [
    "### O que podemos descobrir de útil  com os dados disponíveis?\n",
    "\n"
   ]
  },
  {
   "cell_type": "markdown",
   "id": "5e0e358c",
   "metadata": {},
   "source": [
    "###  Qual seria o serviço mais caro por km rodado?"
   ]
  },
  {
   "cell_type": "markdown",
   "id": "8fb4901b",
   "metadata": {},
   "source": [
    "Utilizando as bibliotecas matplotlib e seaborn, podemos gerar gráficos, tendo assim uma noção visual das coisas, em ambos os aplicativos, a distância aumenta o preço final como era de se esperar, porém, tenhos que levar algo em conta: Diferentes modalitades tem diferentes preços, o que pode impactar no preço final dependendo de qual modalidade é usada.\n",
    "\n",
    "Separando os dataframe em dois dataframes em cada empresa, podemos analisar o comportamento dos preços."
   ]
  },
  {
   "cell_type": "code",
   "execution_count": 12,
   "id": "4e4f6f55",
   "metadata": {
    "scrolled": true
   },
   "outputs": [
    {
     "data": {
      "text/plain": [
       "Text(0.5, 1.0, 'Lyft')"
      ]
     },
     "execution_count": 12,
     "metadata": {},
     "output_type": "execute_result"
    },
    {
     "data": {
      "image/png": "[encoded data removed]",
      "text/plain": [
       "<Figure size 1080x360 with 2 Axes>"
      ]
     },
     "metadata": {
      "needs_background": "light"
     },
     "output_type": "display_data"
    }
   ],
   "source": [
    "\n",
    "fig, axes = plt.subplots(1, 2, figsize=(15, 5))\n",
    "\n",
    "df_uber = df.groupby(['cab_type']).get_group('Uber')\n",
    "df_Lyft = df.groupby(['cab_type']).get_group('Lyft')\n",
    "\n",
    "sns.lineplot(ax=axes[0], x=df_uber.price, y=df_uber.distance,color=\"red\").set_title('Uber')\n",
    "\n",
    "sns.lineplot(ax=axes[1], x=df_Lyft.price, y=df_Lyft.distance).set_title('Lyft')"
   ]
  },
  {
   "cell_type": "markdown",
   "id": "dfcbec26",
   "metadata": {},
   "source": [
    "#### Podemos então descobrir o preço médio de cada modalidade de corrida disponível por aplicativo.\n",
    "\n",
    "As modalidades Lux Black XL e black SUV são as mais caras em média como mostrado nos gráficos de barras"
   ]
  },
  {
   "cell_type": "code",
   "execution_count": 13,
   "id": "9e00a77c",
   "metadata": {},
   "outputs": [
    {
     "data": {
      "text/plain": [
       "Text(0.5, 1.0, 'Uber')"
      ]
     },
     "execution_count": 13,
     "metadata": {},
     "output_type": "execute_result"
    },
    {
     "data": {
      "image/png": "[encoded data removed]",
      "text/plain": [
       "<Figure size 1080x360 with 2 Axes>"
      ]
     },
     "metadata": {
      "needs_background": "light"
     },
     "output_type": "display_data"
    }
   ],
   "source": [
    "fig, axes = plt.subplots(1,2,figsize=(15, 5))\n",
    "\n",
    "\n",
    "\n",
    "sns.barplot(ax=axes[0] ,x=df_Lyft.name,y=df_Lyft.price,data=df_Lyft ).set_title('Lyft')\n",
    "sns.barplot(ax=axes[1] ,x=df_uber.name,y=df_uber.price,data=df_uber ).set_title('Uber')"
   ]
  },
  {
   "cell_type": "markdown",
   "id": "61e3f166",
   "metadata": {},
   "source": [
    "#### Analisando a quantidade de corridas\n",
    "\n",
    "Se analisarmos utilizando a função \"value_counts()\" e usarmos a função value_counts(), vemos que não existe diferença entre as modalidas de cada empresa, neste conjunto de dados, em relação ao número de corridas, isso significa que não existem distorções neste ponto, o que é bom."
   ]
  },
  {
   "cell_type": "code",
   "execution_count": 18,
   "id": "37528508",
   "metadata": {},
   "outputs": [
    {
     "data": {
      "text/plain": [
       "UberXL          55096\n",
       "WAV             55096\n",
       "Black SUV       55096\n",
       "Black           55095\n",
       "Taxi            55095\n",
       "UberX           55094\n",
       "UberPool        55091\n",
       "Lux             51235\n",
       "Lyft            51235\n",
       "Lux Black XL    51235\n",
       "Lyft XL         51235\n",
       "Lux Black       51235\n",
       "Shared          51233\n",
       "Name: name, dtype: int64"
      ]
     },
     "execution_count": 18,
     "metadata": {},
     "output_type": "execute_result"
    }
   ],
   "source": [
    "df['name'].value_counts()"
   ]
  },
  {
   "cell_type": "code",
   "execution_count": 16,
   "id": "d6a3b748",
   "metadata": {},
   "outputs": [
    {
     "data": {
      "text/plain": [
       "Text(0.5, 1.0, 'Uber')"
      ]
     },
     "execution_count": 16,
     "metadata": {},
     "output_type": "execute_result"
    },
    {
     "data": {
      "image/png": "[encoded data removed]",
      "text/plain": [
       "<Figure size 1080x360 with 2 Axes>"
      ]
     },
     "metadata": {
      "needs_background": "light"
     },
     "output_type": "display_data"
    }
   ],
   "source": [
    "fig, axes = plt.subplots(1,2,figsize=(15, 5))\n",
    "\n",
    "\n",
    "\n",
    "sns.countplot(ax=axes[0] ,x=df_Lyft.name,data=df_Lyft ).set_title('Lyft')\n",
    "sns.countplot(ax=axes[1] ,x=df_uber.name,data=df_uber ).set_title('Uber')"
   ]
  },
  {
   "cell_type": "markdown",
   "id": "444573be",
   "metadata": {},
   "source": [
    "### Analisando se existe alguma diferença entre as distâncias percorridas por cada modalidade.\n",
    "\n",
    "Segundo os dados, não.Se plotarmos um gráfico de barras com a distância percorrida, vemos que a distância média, é a mesma em todas as modalidades.O que isso significa?os preços tambem não são distorcidos por isso."
   ]
  },
  {
   "cell_type": "code",
   "execution_count": 20,
   "id": "1ac42485",
   "metadata": {},
   "outputs": [
    {
     "data": {
      "text/plain": [
       "Text(0.5, 1.0, 'Uber')"
      ]
     },
     "execution_count": 20,
     "metadata": {},
     "output_type": "execute_result"
    },
    {
     "data": {
      "image/png": "[encoded data removed]",
      "text/plain": [
       "<Figure size 1080x360 with 2 Axes>"
      ]
     },
     "metadata": {
      "needs_background": "light"
     },
     "output_type": "display_data"
    }
   ],
   "source": [
    "fig, axes = plt.subplots(1,2,figsize=(15, 5))\n",
    "\n",
    "\n",
    "\n",
    "sns.barplot(ax=axes[0] ,x=df_Lyft.name,y=df_Lyft.distance,data=df_Lyft ).set_title('Lyft')\n",
    "sns.barplot(ax=axes[1] ,x=df_uber.name,y=df_uber.distance,data=df_uber ).set_title('Uber')"
   ]
  },
  {
   "cell_type": "markdown",
   "id": "205b3b48",
   "metadata": {},
   "source": [
    "### Correlações"
   ]
  },
  {
   "cell_type": "markdown",
   "id": "bbd53178",
   "metadata": {},
   "source": [
    "Podemos então criar matrizes de correlação para cada uma das empresas, Elas servem para analisarmos as relações entre os fatores utilizados. Podemos então fazer para cada empresa através da função \"corr()\" e então plotar utilizando a função \"background_gradiente\""
   ]
  },
  {
   "cell_type": "code",
   "execution_count": 32,
   "id": "abe2ce34",
   "metadata": {},
   "outputs": [
    {
     "data": {
      "text/html": [
       "<style type=\"text/css\">\n",
       "#T_db123_row0_col0, #T_db123_row1_col1, #T_db123_row2_col2, #T_db123_row3_col3 {\n",
       "  background-color: #b40426;\n",
       "  color: #f1f1f1;\n",
       "}\n",
       "#T_db123_row0_col1, #T_db123_row1_col0, #T_db123_row1_col2, #T_db123_row1_col3, #T_db123_row2_col1, #T_db123_row3_col1 {\n",
       "  background-color: #3b4cc0;\n",
       "  color: #f1f1f1;\n",
       "}\n",
       "#T_db123_row0_col2 {\n",
       "  background-color: #b3cdfb;\n",
       "  color: #000000;\n",
       "}\n",
       "#T_db123_row0_col3, #T_db123_row3_col0 {\n",
       "  background-color: #455cce;\n",
       "  color: #f1f1f1;\n",
       "}\n",
       "#T_db123_row2_col0 {\n",
       "  background-color: #b2ccfb;\n",
       "  color: #000000;\n",
       "}\n",
       "#T_db123_row2_col3, #T_db123_row3_col2 {\n",
       "  background-color: #a1c0ff;\n",
       "  color: #000000;\n",
       "}\n",
       "</style>\n",
       "<table id=\"T_db123_\">\n",
       "  <thead>\n",
       "    <tr>\n",
       "      <th class=\"blank level0\" >&nbsp;</th>\n",
       "      <th class=\"col_heading level0 col0\" >distance</th>\n",
       "      <th class=\"col_heading level0 col1\" >time_stamp</th>\n",
       "      <th class=\"col_heading level0 col2\" >price</th>\n",
       "      <th class=\"col_heading level0 col3\" >surge_multiplier</th>\n",
       "    </tr>\n",
       "  </thead>\n",
       "  <tbody>\n",
       "    <tr>\n",
       "      <th id=\"T_db123_level0_row0\" class=\"row_heading level0 row0\" >distance</th>\n",
       "      <td id=\"T_db123_row0_col0\" class=\"data row0 col0\" >1.000000</td>\n",
       "      <td id=\"T_db123_row0_col1\" class=\"data row0 col1\" >0.004085</td>\n",
       "      <td id=\"T_db123_row0_col2\" class=\"data row0 col2\" >0.361567</td>\n",
       "      <td id=\"T_db123_row0_col3\" class=\"data row0 col3\" >0.040076</td>\n",
       "    </tr>\n",
       "    <tr>\n",
       "      <th id=\"T_db123_level0_row1\" class=\"row_heading level0 row1\" >time_stamp</th>\n",
       "      <td id=\"T_db123_row1_col0\" class=\"data row1 col0\" >0.004085</td>\n",
       "      <td id=\"T_db123_row1_col1\" class=\"data row1 col1\" >1.000000</td>\n",
       "      <td id=\"T_db123_row1_col2\" class=\"data row1 col2\" >0.001909</td>\n",
       "      <td id=\"T_db123_row1_col3\" class=\"data row1 col3\" >0.001093</td>\n",
       "    </tr>\n",
       "    <tr>\n",
       "      <th id=\"T_db123_level0_row2\" class=\"row_heading level0 row2\" >price</th>\n",
       "      <td id=\"T_db123_row2_col0\" class=\"data row2 col0\" >0.361567</td>\n",
       "      <td id=\"T_db123_row2_col1\" class=\"data row2 col1\" >0.001909</td>\n",
       "      <td id=\"T_db123_row2_col2\" class=\"data row2 col2\" >1.000000</td>\n",
       "      <td id=\"T_db123_row2_col3\" class=\"data row2 col3\" >0.308237</td>\n",
       "    </tr>\n",
       "    <tr>\n",
       "      <th id=\"T_db123_level0_row3\" class=\"row_heading level0 row3\" >surge_multiplier</th>\n",
       "      <td id=\"T_db123_row3_col0\" class=\"data row3 col0\" >0.040076</td>\n",
       "      <td id=\"T_db123_row3_col1\" class=\"data row3 col1\" >0.001093</td>\n",
       "      <td id=\"T_db123_row3_col2\" class=\"data row3 col2\" >0.308237</td>\n",
       "      <td id=\"T_db123_row3_col3\" class=\"data row3 col3\" >1.000000</td>\n",
       "    </tr>\n",
       "  </tbody>\n",
       "</table>\n"
      ],
      "text/plain": [
       "<pandas.io.formats.style.Styler at 0x1c2cd591fa0>"
      ]
     },
     "execution_count": 32,
     "metadata": {},
     "output_type": "execute_result"
    }
   ],
   "source": [
    "\n",
    "corr1 =df_Lyft.corr()\n",
    "corr1.style.background_gradient(cmap='coolwarm')\n",
    "\n"
   ]
  },
  {
   "cell_type": "code",
   "execution_count": 30,
   "id": "4aec46fe",
   "metadata": {},
   "outputs": [
    {
     "name": "stderr",
     "output_type": "stream",
     "text": [
      "C:\\Users\\rafac\\anaconda3\\lib\\site-packages\\pandas\\io\\formats\\style.py:2813: RuntimeWarning: All-NaN slice encountered\n",
      "  smin = np.nanmin(gmap) if vmin is None else vmin\n",
      "C:\\Users\\rafac\\anaconda3\\lib\\site-packages\\pandas\\io\\formats\\style.py:2814: RuntimeWarning: All-NaN slice encountered\n",
      "  smax = np.nanmax(gmap) if vmax is None else vmax\n"
     ]
    },
    {
     "data": {
      "text/html": [
       "<style type=\"text/css\">\n",
       "#T_7c996_row0_col0, #T_7c996_row1_col1, #T_7c996_row2_col2 {\n",
       "  background-color: #b40426;\n",
       "  color: #f1f1f1;\n",
       "}\n",
       "#T_7c996_row0_col1, #T_7c996_row1_col0, #T_7c996_row1_col2, #T_7c996_row2_col1 {\n",
       "  background-color: #3b4cc0;\n",
       "  color: #f1f1f1;\n",
       "}\n",
       "#T_7c996_row0_col2, #T_7c996_row2_col0 {\n",
       "  background-color: #a2c1ff;\n",
       "  color: #000000;\n",
       "}\n",
       "#T_7c996_row0_col3, #T_7c996_row1_col3, #T_7c996_row2_col3, #T_7c996_row3_col0, #T_7c996_row3_col1, #T_7c996_row3_col2, #T_7c996_row3_col3 {\n",
       "  background-color: #000000;\n",
       "  color: #f1f1f1;\n",
       "}\n",
       "</style>\n",
       "<table id=\"T_7c996_\">\n",
       "  <thead>\n",
       "    <tr>\n",
       "      <th class=\"blank level0\" >&nbsp;</th>\n",
       "      <th class=\"col_heading level0 col0\" >distance</th>\n",
       "      <th class=\"col_heading level0 col1\" >time_stamp</th>\n",
       "      <th class=\"col_heading level0 col2\" >price</th>\n",
       "      <th class=\"col_heading level0 col3\" >surge_multiplier</th>\n",
       "    </tr>\n",
       "  </thead>\n",
       "  <tbody>\n",
       "    <tr>\n",
       "      <th id=\"T_7c996_level0_row0\" class=\"row_heading level0 row0\" >distance</th>\n",
       "      <td id=\"T_7c996_row0_col0\" class=\"data row0 col0\" >1.000000</td>\n",
       "      <td id=\"T_7c996_row0_col1\" class=\"data row0 col1\" >0.003165</td>\n",
       "      <td id=\"T_7c996_row0_col2\" class=\"data row0 col2\" >0.311093</td>\n",
       "      <td id=\"T_7c996_row0_col3\" class=\"data row0 col3\" >nan</td>\n",
       "    </tr>\n",
       "    <tr>\n",
       "      <th id=\"T_7c996_level0_row1\" class=\"row_heading level0 row1\" >time_stamp</th>\n",
       "      <td id=\"T_7c996_row1_col0\" class=\"data row1 col0\" >0.003165</td>\n",
       "      <td id=\"T_7c996_row1_col1\" class=\"data row1 col1\" >1.000000</td>\n",
       "      <td id=\"T_7c996_row1_col2\" class=\"data row1 col2\" >-0.000211</td>\n",
       "      <td id=\"T_7c996_row1_col3\" class=\"data row1 col3\" >nan</td>\n",
       "    </tr>\n",
       "    <tr>\n",
       "      <th id=\"T_7c996_level0_row2\" class=\"row_heading level0 row2\" >price</th>\n",
       "      <td id=\"T_7c996_row2_col0\" class=\"data row2 col0\" >0.311093</td>\n",
       "      <td id=\"T_7c996_row2_col1\" class=\"data row2 col1\" >-0.000211</td>\n",
       "      <td id=\"T_7c996_row2_col2\" class=\"data row2 col2\" >1.000000</td>\n",
       "      <td id=\"T_7c996_row2_col3\" class=\"data row2 col3\" >nan</td>\n",
       "    </tr>\n",
       "    <tr>\n",
       "      <th id=\"T_7c996_level0_row3\" class=\"row_heading level0 row3\" >surge_multiplier</th>\n",
       "      <td id=\"T_7c996_row3_col0\" class=\"data row3 col0\" >nan</td>\n",
       "      <td id=\"T_7c996_row3_col1\" class=\"data row3 col1\" >nan</td>\n",
       "      <td id=\"T_7c996_row3_col2\" class=\"data row3 col2\" >nan</td>\n",
       "      <td id=\"T_7c996_row3_col3\" class=\"data row3 col3\" >nan</td>\n",
       "    </tr>\n",
       "  </tbody>\n",
       "</table>\n"
      ],
      "text/plain": [
       "<pandas.io.formats.style.Styler at 0x1c2cd591e50>"
      ]
     },
     "execution_count": 30,
     "metadata": {},
     "output_type": "execute_result"
    }
   ],
   "source": [
    "corr2 =df_uber.corr()\n",
    "corr2.style.background_gradient(cmap='coolwarm')"
   ]
  },
  {
   "cell_type": "markdown",
   "id": "0675c218",
   "metadata": {},
   "source": [
    "### Analisando as correlações.\n",
    "\n",
    "Se analisarmos, podemos notar algumas coisas:Primeiro a correlação dos preços com os outros fatores da empresa Lyft são superiores ás correlações da empresa Uber. Então, de fato, a empresa Lyft cobra mais pela distância percorrida, fora os outros fatores, curiosamente, não existe correlação no Surge_Multiplier na empresa uber."
   ]
  }
 ],
 "metadata": {
  "kernelspec": {
   "display_name": "Python 3 (ipykernel)",
   "language": "python",
   "name": "python3"
  },
  "language_info": {
   "codemirror_mode": {
    "name": "ipython",
    "version": 3
   },
   "file_extension": ".py",
   "mimetype": "text/x-python",
   "name": "python",
   "nbconvert_exporter": "python",
   "pygments_lexer": "ipython3",
   "version": "3.9.7"
  }
 },
 "nbformat": 4,
 "nbformat_minor": 5
}
